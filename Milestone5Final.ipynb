{
  "nbformat": 4,
  "nbformat_minor": 0,
  "metadata": {
    "colab": {
      "provenance": [],
      "authorship_tag": "ABX9TyNXJX9f+ygzqZt/giOsw93W",
      "include_colab_link": true
    },
    "kernelspec": {
      "name": "python3",
      "display_name": "Python 3"
    },
    "language_info": {
      "name": "python"
    }
  },
  "cells": [
    {
      "cell_type": "markdown",
      "metadata": {
        "id": "view-in-github",
        "colab_type": "text"
      },
      "source": [
        "<a href=\"https://colab.research.google.com/github/olivala/DataMining_Final/blob/main/Milestone5Final.ipynb\" target=\"_parent\"><img src=\"https://colab.research.google.com/assets/colab-badge.svg\" alt=\"Open In Colab\"/></a>"
      ]
    },
    {
      "cell_type": "code",
      "source": [
        "!pip install sodapy"
      ],
      "metadata": {
        "colab": {
          "base_uri": "https://localhost:8080/"
        },
        "id": "_RldLpYEvoqs",
        "outputId": "819fcf77-1784-46f7-9393-863a82fb1d99"
      },
      "execution_count": null,
      "outputs": [
        {
          "output_type": "stream",
          "name": "stdout",
          "text": [
            "Collecting sodapy\n",
            "  Downloading sodapy-2.2.0-py2.py3-none-any.whl (15 kB)\n",
            "Requirement already satisfied: requests>=2.28.1 in /usr/local/lib/python3.10/dist-packages (from sodapy) (2.31.0)\n",
            "Requirement already satisfied: charset-normalizer<4,>=2 in /usr/local/lib/python3.10/dist-packages (from requests>=2.28.1->sodapy) (3.3.2)\n",
            "Requirement already satisfied: idna<4,>=2.5 in /usr/local/lib/python3.10/dist-packages (from requests>=2.28.1->sodapy) (3.7)\n",
            "Requirement already satisfied: urllib3<3,>=1.21.1 in /usr/local/lib/python3.10/dist-packages (from requests>=2.28.1->sodapy) (2.0.7)\n",
            "Requirement already satisfied: certifi>=2017.4.17 in /usr/local/lib/python3.10/dist-packages (from requests>=2.28.1->sodapy) (2024.2.2)\n",
            "Installing collected packages: sodapy\n",
            "Successfully installed sodapy-2.2.0\n"
          ]
        }
      ]
    },
    {
      "cell_type": "code",
      "source": [
        "#load\n",
        "from sodapy import Socrata\n",
        "import pandas as pd\n",
        "import matplotlib.pyplot as plt\n",
        "from datetime import datetime\n",
        "import seaborn as sns\n",
        "from sklearn.cluster import KMeans\n",
        "import numpy as np\n"
      ],
      "metadata": {
        "id": "f-9rfN--viug"
      },
      "execution_count": null,
      "outputs": []
    },
    {
      "cell_type": "markdown",
      "source": [
        "# **Milestone 3**"
      ],
      "metadata": {
        "id": "2ebzjPW7vKUw"
      }
    },
    {
      "cell_type": "markdown",
      "source": [
        "\n",
        "\n",
        "Project Proposal: Chicago Sex Offenders\n",
        "\n",
        "Data Set: https://data.cityofchicago.org/Public-Safety/Sex-Offenders/vc9r-bqvy/about_data\n",
        "\n",
        "Introduction: In the United States of America it is required for people who committed sex related crimes to register as sex offenders in order to protect the public. Though sexual assault is often under reported and under charged it is important to keep individuals who have been charged with such crimes away from places like schools. For the public it is easy to access the information of sex offenders in their area to protect themselves and their families. To analyze the demographics of sex offenders I will look into the Sex Offenders database.\n",
        "\n",
        "Dataset Description and Significance: The sex offenders data set supplied by the city of Chicago includes over three thousand registered sex offenders from Chicago. The data set provides information about their birthday, race, housing status, and if their victim was a minor. By analyzing this data I will uncover trends about the age of the perpetrator and if their victim was a minor.\n",
        "\n",
        "Story to Tell and Importance: The narrative the analysis will cover is to analyze the age of the individual charged and their victim in order to backup the importance of databases and regulations for sex offenders. To understand how sex based crimes on minors are committed by any group is very important in helping to protect children and keep perpetrators from reoffending.\n",
        "\n",
        "Deliverables: Data report: I will provide a report on the data and my findings which will include analytics and visualizations. Summary presentation: I will provide a presentation of my findings in a more accessible medium\n",
        "\n",
        "Resource and Assistance Requirements: For this project I will be using Python along with Pandas and matplotlib. I will also be establishing a Socrata API connection to the data set provided by the chicago dataset portal. If problems arise I will be reaching out to Professor Irakliotis.\n",
        "\n",
        "Work Schedule: Over the next two weeks I will be working on the project in the mornings before my classes begin at one. Keeping a consistent schedule will keep me on track and motivated to complete each step of this project in a timely manner.\n",
        "\n",
        "Conclusion: I will be using data mining to see the correlation between sex offenders age and if their victim was a minor using techniques learned throughout class. I will then gather my analysis and provide documentation that makes what I have uncovered accessible to anyone.\n"
      ],
      "metadata": {
        "id": "PRSatsfFva4y"
      }
    },
    {
      "cell_type": "code",
      "source": [
        "#help from: https://dev.socrata.com/foundry/data.cityofchicago.org/vc9r-bqvy\n",
        "\n",
        "client = Socrata(\"data.cityofchicago.org\", None)\n",
        "#default limit is 1000 however over 3.5k cols are in the dataset\n",
        "results = client.get('vc9r-bqvy',limit=4000)\n",
        "master_df = pd.DataFrame.from_records(results)"
      ],
      "metadata": {
        "id": "dUraidc2vqpj"
      },
      "execution_count": null,
      "outputs": []
    },
    {
      "cell_type": "code",
      "source": [
        "working_df=master_df.copy(deep='TRUE')\n",
        "working_df.head()"
      ],
      "metadata": {
        "id": "PkHwRY8Svcev"
      },
      "execution_count": null,
      "outputs": []
    },
    {
      "cell_type": "code",
      "source": [
        "working_df.shape"
      ],
      "metadata": {
        "id": "58JG__0wvyWE"
      },
      "execution_count": null,
      "outputs": []
    },
    {
      "cell_type": "code",
      "source": [
        "for column in range(working_df.shape[1]):\n",
        "  print(working_df[working_df.columns[column]].count())"
      ],
      "metadata": {
        "id": "Xa5dVIx6v0Up"
      },
      "execution_count": null,
      "outputs": []
    },
    {
      "cell_type": "code",
      "source": [
        "#create age col\n",
        "working_df['birth_date']=pd.to_datetime(working_df['birth_date'])\n",
        "current_date=datetime.now()\n",
        "working_df['Age']=(current_date-working_df['birth_date']).astype('<m8[Y]')\n",
        "working_df.head()"
      ],
      "metadata": {
        "id": "nrF8lz1ev2FZ"
      },
      "execution_count": null,
      "outputs": []
    },
    {
      "cell_type": "code",
      "source": [
        "#only include necessary cols\n",
        "working_df=working_df[['Age','victim_minor']]"
      ],
      "metadata": {
        "id": "DVWnLIKev3qX"
      },
      "execution_count": null,
      "outputs": []
    },
    {
      "cell_type": "code",
      "source": [
        "#convert victim_minor col to binary\n",
        "working_df['victim_minor']=working_df['victim_minor'].apply(lambda x:1 if x.lower()== 'y' else 0)\n",
        "working_df.head()"
      ],
      "metadata": {
        "id": "G1p8LeMGv5IY"
      },
      "execution_count": null,
      "outputs": []
    },
    {
      "cell_type": "code",
      "source": [
        "correlation = working_df['victim_minor'].corr(working_df['Age'])\n",
        "print(correlation)"
      ],
      "metadata": {
        "id": "EHEvaqQkv6e1"
      },
      "execution_count": null,
      "outputs": []
    },
    {
      "cell_type": "markdown",
      "source": [
        "The correlation between the age of the perpetrator and if the victim is a minor is -0.06937. This is a weak correlation as it is far away from 1 or -1. However, a negative correlation still signifies that as the age increases the liklihood of the victim being a minor decreases and when the age decreases the liklihood of the victim being a minor increases."
      ],
      "metadata": {
        "id": "RSHTEB1mv_eY"
      }
    },
    {
      "cell_type": "code",
      "source": [
        "#function to compare perpetrators over 50 and under 50\n",
        "def compare(df, age, victim_minor, age_threshold=50):\n",
        "  age_groups = working_df.groupby(age)['victim_minor'].mean()\n",
        "  lh_over_50 = age_groups[age_groups.index > age_threshold].mean()\n",
        "  lh_under_50 = age_groups[age_groups.index <= age_threshold].mean()\n",
        "  if lh_over_50 > lh_under_50:\n",
        "    result = 'over_50'\n",
        "  elif lh_over_50 < lh_under_50:\n",
        "    result = 'under_50'\n",
        "  else:\n",
        "    result = 'equal_likelihood'\n",
        "  return result\n",
        "\n",
        "compare_result = compare(working_df,'Age', 'victim_minor', age_threshold=50)\n",
        "print(compare_result)"
      ],
      "metadata": {
        "id": "09JfweaGwABk"
      },
      "execution_count": null,
      "outputs": []
    },
    {
      "cell_type": "markdown",
      "source": [
        "After splitting the data into two groups, one for perpetrators over 50 and one for perpetrators under 50 it was deterimined that the liklihood of a victim being a minor is higher for perpetrators over 50. This result is in line with the correlation above."
      ],
      "metadata": {
        "id": "EyFMtZa7wD6y"
      }
    },
    {
      "cell_type": "code",
      "source": [
        "def compare(df, age, victim_minor):\n",
        "  age_bins = [0,25,50,75,float('inf')]\n",
        "  age_label = ['Under 25','25-50,','50-75','75+']\n",
        "  working_df['Age']\n",
        "  df['age_group'] = pd.cut(df[age], bins=age_bins, labels=age_label, right=False)\n",
        "  age_groups = df.groupby('age_group')[victim_minor].mean()\n",
        "  ranked = age_groups.sort_values(ascending=False).index.tolist()\n",
        "\n",
        "  return ranked\n",
        "\n",
        "ranked_ages = compare(working_df, 'Age', 'victim_minor')\n",
        "print(ranked_ages)"
      ],
      "metadata": {
        "id": "VVc8jTjJw9FE"
      },
      "execution_count": null,
      "outputs": []
    },
    {
      "cell_type": "markdown",
      "source": [
        "The age group most likely to commit crimes against minors is people 25-50 years old. The next group is people over 75. Then people under 25. The group least likely to have a minor victim is people from 50-75. This ranking helps to understand why the correlation between age and if a victim is a minor is so weak"
      ],
      "metadata": {
        "id": "ix-_QPm1xFUC"
      }
    },
    {
      "cell_type": "code",
      "source": [
        "plt.scatter(working_df['Age'],working_df['victim_minor'],alpha=0.5)\n",
        "plt.title('Correlation between Perpetrator Age and Minor Victim')\n",
        "plt.xlabel('Perpetrator Age')\n",
        "plt.ylabel('Minor Victim (1 for Yes, 0 for No)')\n",
        "plt.show()"
      ],
      "metadata": {
        "id": "oPD4KkDuxH4o"
      },
      "execution_count": null,
      "outputs": []
    },
    {
      "cell_type": "code",
      "source": [
        "ef plotratio(df, age, victim_minor):\n",
        "  age_groups=working_df.groupby(age)['victim_minor'].mean()\n",
        "  ratio=age_groups/(1-age_groups)\n",
        "  plt.plot(ratio.index,ratio.values,marker='o')\n",
        "  plt.title('Ratio of Victims Being Minors to Victims Not Being Minors by Age')\n",
        "  plt.xlabel('Perpetrator Age')\n",
        "  plt.ylabel('Ratio (Minors / Non-Minors)')\n",
        "  plt.show()\n",
        "\n",
        "plotratio(working_df,'Age','victim_minor')"
      ],
      "metadata": {
        "id": "xYpBkJOgxKil"
      },
      "execution_count": null,
      "outputs": []
    },
    {
      "cell_type": "markdown",
      "source": [
        "The graph shows the ratio of victims who are minors to victims who are not minors and the age of their perpetrator. The graph displays that younger people tend to commit crimes against minors more often. There is also a high spike in assult againt minors by 81 yearolds. It is also important to note that every age in the graph below 50 has a ratio above 1, meaning that for each age above 50 they commit more assults against minors than non minors."
      ],
      "metadata": {
        "id": "4fMlz8S8xNSx"
      }
    },
    {
      "cell_type": "code",
      "source": [
        "corr_matrix=working_df[['Age','victim_minor']].corr()\n",
        "plt.figure(figsize=(8,6))\n",
        "sns.heatmap(corr_matrix,annot=True,cmap=\"coolwarm\",fmt=\".2f\",linewidths=.5)\n",
        "plt.title('Correlation Map between Age of Perpetrator and Minor Victim')\n",
        "plt.show()"
      ],
      "metadata": {
        "id": "E8_vOi34xOFB"
      },
      "execution_count": null,
      "outputs": []
    },
    {
      "cell_type": "markdown",
      "source": [
        "\n",
        "\n",
        "In conclusion, there is not a strong correlation between the age of the perpetrator and if the vicitim is a minor. There is a small trend that perpetrators younger than fifty tend to commit more assults on minors which is backed up by the negative correlation and the line graph. For further reasearch on this topic it would be intresting to look into the correlation between if a victim is a minor and the interaction between gender and age. The data also provides height and weight so it would be intresting to look into if the size of the perpeatrator is correlated with the victim being a minor.\n",
        "\n",
        "Presentation: https://docs.google.com/presentation/d/16ZlO0PYDYWrwCLiYv0RyeuaDyJ3sc0WgV9AbYMqpGmQ/edit?usp=sharing\n"
      ],
      "metadata": {
        "id": "CrhxRXk0xUx2"
      }
    },
    {
      "cell_type": "markdown",
      "source": [
        "# **Milestone 4&5**"
      ],
      "metadata": {
        "id": "OvblEzOtxaUz"
      }
    },
    {
      "cell_type": "markdown",
      "source": [
        "I was previously working on the sex offenders data set. This data set did not provide an opportunity to connect another data set do it, so I will now be working on the towed cars data set (https://data.cityofchicago.org/Transportation/Towed-Vehicles/ygr5-vcbg/about_data). My goal is to map a weather data set to the towed vehicles data set to discover if there is a correlation between rainfall and vehicles being towed. I will also look into snowfall. To do this I will create functions that examine the data and visualizations to convey the findings."
      ],
      "metadata": {
        "id": "mymT33c-0DC3"
      }
    },
    {
      "cell_type": "code",
      "execution_count": null,
      "metadata": {
        "colab": {
          "base_uri": "https://localhost:8080/"
        },
        "id": "ye7URdD1z9Uo",
        "outputId": "c5dbe384-3649-414a-f2ce-ee87b37f0da3"
      },
      "outputs": [
        {
          "output_type": "stream",
          "name": "stdout",
          "text": [
            "Mounted at /content/drive\n"
          ]
        }
      ],
      "source": [
        "from google.colab import drive\n",
        "drive.mount('/content/drive')"
      ]
    },
    {
      "cell_type": "code",
      "source": [
        "#load in towed data\n",
        "#code from https://dev.socrata.com/foundry/data.cityofchicago.org/ygr5-vcbg\n",
        "\n",
        "client = Socrata(\"data.cityofchicago.org\", None)\n",
        "\n",
        "results = client.get(\"ygr5-vcbg\", limit=4000)\n",
        "\n",
        "results_df = pd.DataFrame.from_records(results)"
      ],
      "metadata": {
        "colab": {
          "base_uri": "https://localhost:8080/"
        },
        "id": "Dx57UEJE0-VC",
        "outputId": "d18fdcb5-00b1-48ff-cd0f-3c78b936020f"
      },
      "execution_count": null,
      "outputs": [
        {
          "output_type": "stream",
          "name": "stderr",
          "text": [
            "WARNING:root:Requests made without an app_token will be subject to strict throttling limits.\n"
          ]
        }
      ]
    },
    {
      "cell_type": "code",
      "source": [
        "#set working df\n",
        "working_df=results_df.copy(deep='TRUE')\n",
        "working_df.head()"
      ],
      "metadata": {
        "colab": {
          "base_uri": "https://localhost:8080/",
          "height": 226
        },
        "id": "h8riUwFS1B-S",
        "outputId": "43cdc03f-8711-4ccd-a5f4-a0a71c1275c2"
      },
      "execution_count": null,
      "outputs": [
        {
          "output_type": "execute_result",
          "data": {
            "text/plain": [
              "                  tow_date  make style color    plate state  \\\n",
              "0  2024-04-29T00:00:00.000  ACUR    LL   SIL  DS70128    IL   \n",
              "1  2024-04-29T00:00:00.000  ACUR    LL   GRY  EG65497    IL   \n",
              "2  2024-04-29T00:00:00.000  AUDI    4D   BLK  CY57416    IL   \n",
              "3  2024-04-29T00:00:00.000   BMW    LL   BLU   DEB720    MI   \n",
              "4  2024-04-29T00:00:00.000  CHEV    4D   SIL  DH84493    IL   \n",
              "\n",
              "      towed_to_address tow_facility_phone inventory_number model  \n",
              "0    701 N. Sacramento     (773) 265-7605          7089744   NaN  \n",
              "1  400 E. Lower Wacker     (312) 744-7550          0301945   NaN  \n",
              "2        10300 S. Doty     (773) 568-8495          2968597   NaN  \n",
              "3    701 N. Sacramento     (773) 265-1846          1547336   NaN  \n",
              "4  400 E. Lower Wacker     (312) 744-7550          0301943   NaN  "
            ],
            "text/html": [
              "\n",
              "  <div id=\"df-4d373ab5-660d-4712-b5bf-911b4bd88016\" class=\"colab-df-container\">\n",
              "    <div>\n",
              "<style scoped>\n",
              "    .dataframe tbody tr th:only-of-type {\n",
              "        vertical-align: middle;\n",
              "    }\n",
              "\n",
              "    .dataframe tbody tr th {\n",
              "        vertical-align: top;\n",
              "    }\n",
              "\n",
              "    .dataframe thead th {\n",
              "        text-align: right;\n",
              "    }\n",
              "</style>\n",
              "<table border=\"1\" class=\"dataframe\">\n",
              "  <thead>\n",
              "    <tr style=\"text-align: right;\">\n",
              "      <th></th>\n",
              "      <th>tow_date</th>\n",
              "      <th>make</th>\n",
              "      <th>style</th>\n",
              "      <th>color</th>\n",
              "      <th>plate</th>\n",
              "      <th>state</th>\n",
              "      <th>towed_to_address</th>\n",
              "      <th>tow_facility_phone</th>\n",
              "      <th>inventory_number</th>\n",
              "      <th>model</th>\n",
              "    </tr>\n",
              "  </thead>\n",
              "  <tbody>\n",
              "    <tr>\n",
              "      <th>0</th>\n",
              "      <td>2024-04-29T00:00:00.000</td>\n",
              "      <td>ACUR</td>\n",
              "      <td>LL</td>\n",
              "      <td>SIL</td>\n",
              "      <td>DS70128</td>\n",
              "      <td>IL</td>\n",
              "      <td>701 N. Sacramento</td>\n",
              "      <td>(773) 265-7605</td>\n",
              "      <td>7089744</td>\n",
              "      <td>NaN</td>\n",
              "    </tr>\n",
              "    <tr>\n",
              "      <th>1</th>\n",
              "      <td>2024-04-29T00:00:00.000</td>\n",
              "      <td>ACUR</td>\n",
              "      <td>LL</td>\n",
              "      <td>GRY</td>\n",
              "      <td>EG65497</td>\n",
              "      <td>IL</td>\n",
              "      <td>400 E. Lower Wacker</td>\n",
              "      <td>(312) 744-7550</td>\n",
              "      <td>0301945</td>\n",
              "      <td>NaN</td>\n",
              "    </tr>\n",
              "    <tr>\n",
              "      <th>2</th>\n",
              "      <td>2024-04-29T00:00:00.000</td>\n",
              "      <td>AUDI</td>\n",
              "      <td>4D</td>\n",
              "      <td>BLK</td>\n",
              "      <td>CY57416</td>\n",
              "      <td>IL</td>\n",
              "      <td>10300 S. Doty</td>\n",
              "      <td>(773) 568-8495</td>\n",
              "      <td>2968597</td>\n",
              "      <td>NaN</td>\n",
              "    </tr>\n",
              "    <tr>\n",
              "      <th>3</th>\n",
              "      <td>2024-04-29T00:00:00.000</td>\n",
              "      <td>BMW</td>\n",
              "      <td>LL</td>\n",
              "      <td>BLU</td>\n",
              "      <td>DEB720</td>\n",
              "      <td>MI</td>\n",
              "      <td>701 N. Sacramento</td>\n",
              "      <td>(773) 265-1846</td>\n",
              "      <td>1547336</td>\n",
              "      <td>NaN</td>\n",
              "    </tr>\n",
              "    <tr>\n",
              "      <th>4</th>\n",
              "      <td>2024-04-29T00:00:00.000</td>\n",
              "      <td>CHEV</td>\n",
              "      <td>4D</td>\n",
              "      <td>SIL</td>\n",
              "      <td>DH84493</td>\n",
              "      <td>IL</td>\n",
              "      <td>400 E. Lower Wacker</td>\n",
              "      <td>(312) 744-7550</td>\n",
              "      <td>0301943</td>\n",
              "      <td>NaN</td>\n",
              "    </tr>\n",
              "  </tbody>\n",
              "</table>\n",
              "</div>\n",
              "    <div class=\"colab-df-buttons\">\n",
              "\n",
              "  <div class=\"colab-df-container\">\n",
              "    <button class=\"colab-df-convert\" onclick=\"convertToInteractive('df-4d373ab5-660d-4712-b5bf-911b4bd88016')\"\n",
              "            title=\"Convert this dataframe to an interactive table.\"\n",
              "            style=\"display:none;\">\n",
              "\n",
              "  <svg xmlns=\"http://www.w3.org/2000/svg\" height=\"24px\" viewBox=\"0 -960 960 960\">\n",
              "    <path d=\"M120-120v-720h720v720H120Zm60-500h600v-160H180v160Zm220 220h160v-160H400v160Zm0 220h160v-160H400v160ZM180-400h160v-160H180v160Zm440 0h160v-160H620v160ZM180-180h160v-160H180v160Zm440 0h160v-160H620v160Z\"/>\n",
              "  </svg>\n",
              "    </button>\n",
              "\n",
              "  <style>\n",
              "    .colab-df-container {\n",
              "      display:flex;\n",
              "      gap: 12px;\n",
              "    }\n",
              "\n",
              "    .colab-df-convert {\n",
              "      background-color: #E8F0FE;\n",
              "      border: none;\n",
              "      border-radius: 50%;\n",
              "      cursor: pointer;\n",
              "      display: none;\n",
              "      fill: #1967D2;\n",
              "      height: 32px;\n",
              "      padding: 0 0 0 0;\n",
              "      width: 32px;\n",
              "    }\n",
              "\n",
              "    .colab-df-convert:hover {\n",
              "      background-color: #E2EBFA;\n",
              "      box-shadow: 0px 1px 2px rgba(60, 64, 67, 0.3), 0px 1px 3px 1px rgba(60, 64, 67, 0.15);\n",
              "      fill: #174EA6;\n",
              "    }\n",
              "\n",
              "    .colab-df-buttons div {\n",
              "      margin-bottom: 4px;\n",
              "    }\n",
              "\n",
              "    [theme=dark] .colab-df-convert {\n",
              "      background-color: #3B4455;\n",
              "      fill: #D2E3FC;\n",
              "    }\n",
              "\n",
              "    [theme=dark] .colab-df-convert:hover {\n",
              "      background-color: #434B5C;\n",
              "      box-shadow: 0px 1px 3px 1px rgba(0, 0, 0, 0.15);\n",
              "      filter: drop-shadow(0px 1px 2px rgba(0, 0, 0, 0.3));\n",
              "      fill: #FFFFFF;\n",
              "    }\n",
              "  </style>\n",
              "\n",
              "    <script>\n",
              "      const buttonEl =\n",
              "        document.querySelector('#df-4d373ab5-660d-4712-b5bf-911b4bd88016 button.colab-df-convert');\n",
              "      buttonEl.style.display =\n",
              "        google.colab.kernel.accessAllowed ? 'block' : 'none';\n",
              "\n",
              "      async function convertToInteractive(key) {\n",
              "        const element = document.querySelector('#df-4d373ab5-660d-4712-b5bf-911b4bd88016');\n",
              "        const dataTable =\n",
              "          await google.colab.kernel.invokeFunction('convertToInteractive',\n",
              "                                                    [key], {});\n",
              "        if (!dataTable) return;\n",
              "\n",
              "        const docLinkHtml = 'Like what you see? Visit the ' +\n",
              "          '<a target=\"_blank\" href=https://colab.research.google.com/notebooks/data_table.ipynb>data table notebook</a>'\n",
              "          + ' to learn more about interactive tables.';\n",
              "        element.innerHTML = '';\n",
              "        dataTable['output_type'] = 'display_data';\n",
              "        await google.colab.output.renderOutput(dataTable, element);\n",
              "        const docLink = document.createElement('div');\n",
              "        docLink.innerHTML = docLinkHtml;\n",
              "        element.appendChild(docLink);\n",
              "      }\n",
              "    </script>\n",
              "  </div>\n",
              "\n",
              "\n",
              "<div id=\"df-984a4dc2-b9eb-4aba-8fef-3f78b71498bd\">\n",
              "  <button class=\"colab-df-quickchart\" onclick=\"quickchart('df-984a4dc2-b9eb-4aba-8fef-3f78b71498bd')\"\n",
              "            title=\"Suggest charts\"\n",
              "            style=\"display:none;\">\n",
              "\n",
              "<svg xmlns=\"http://www.w3.org/2000/svg\" height=\"24px\"viewBox=\"0 0 24 24\"\n",
              "     width=\"24px\">\n",
              "    <g>\n",
              "        <path d=\"M19 3H5c-1.1 0-2 .9-2 2v14c0 1.1.9 2 2 2h14c1.1 0 2-.9 2-2V5c0-1.1-.9-2-2-2zM9 17H7v-7h2v7zm4 0h-2V7h2v10zm4 0h-2v-4h2v4z\"/>\n",
              "    </g>\n",
              "</svg>\n",
              "  </button>\n",
              "\n",
              "<style>\n",
              "  .colab-df-quickchart {\n",
              "      --bg-color: #E8F0FE;\n",
              "      --fill-color: #1967D2;\n",
              "      --hover-bg-color: #E2EBFA;\n",
              "      --hover-fill-color: #174EA6;\n",
              "      --disabled-fill-color: #AAA;\n",
              "      --disabled-bg-color: #DDD;\n",
              "  }\n",
              "\n",
              "  [theme=dark] .colab-df-quickchart {\n",
              "      --bg-color: #3B4455;\n",
              "      --fill-color: #D2E3FC;\n",
              "      --hover-bg-color: #434B5C;\n",
              "      --hover-fill-color: #FFFFFF;\n",
              "      --disabled-bg-color: #3B4455;\n",
              "      --disabled-fill-color: #666;\n",
              "  }\n",
              "\n",
              "  .colab-df-quickchart {\n",
              "    background-color: var(--bg-color);\n",
              "    border: none;\n",
              "    border-radius: 50%;\n",
              "    cursor: pointer;\n",
              "    display: none;\n",
              "    fill: var(--fill-color);\n",
              "    height: 32px;\n",
              "    padding: 0;\n",
              "    width: 32px;\n",
              "  }\n",
              "\n",
              "  .colab-df-quickchart:hover {\n",
              "    background-color: var(--hover-bg-color);\n",
              "    box-shadow: 0 1px 2px rgba(60, 64, 67, 0.3), 0 1px 3px 1px rgba(60, 64, 67, 0.15);\n",
              "    fill: var(--button-hover-fill-color);\n",
              "  }\n",
              "\n",
              "  .colab-df-quickchart-complete:disabled,\n",
              "  .colab-df-quickchart-complete:disabled:hover {\n",
              "    background-color: var(--disabled-bg-color);\n",
              "    fill: var(--disabled-fill-color);\n",
              "    box-shadow: none;\n",
              "  }\n",
              "\n",
              "  .colab-df-spinner {\n",
              "    border: 2px solid var(--fill-color);\n",
              "    border-color: transparent;\n",
              "    border-bottom-color: var(--fill-color);\n",
              "    animation:\n",
              "      spin 1s steps(1) infinite;\n",
              "  }\n",
              "\n",
              "  @keyframes spin {\n",
              "    0% {\n",
              "      border-color: transparent;\n",
              "      border-bottom-color: var(--fill-color);\n",
              "      border-left-color: var(--fill-color);\n",
              "    }\n",
              "    20% {\n",
              "      border-color: transparent;\n",
              "      border-left-color: var(--fill-color);\n",
              "      border-top-color: var(--fill-color);\n",
              "    }\n",
              "    30% {\n",
              "      border-color: transparent;\n",
              "      border-left-color: var(--fill-color);\n",
              "      border-top-color: var(--fill-color);\n",
              "      border-right-color: var(--fill-color);\n",
              "    }\n",
              "    40% {\n",
              "      border-color: transparent;\n",
              "      border-right-color: var(--fill-color);\n",
              "      border-top-color: var(--fill-color);\n",
              "    }\n",
              "    60% {\n",
              "      border-color: transparent;\n",
              "      border-right-color: var(--fill-color);\n",
              "    }\n",
              "    80% {\n",
              "      border-color: transparent;\n",
              "      border-right-color: var(--fill-color);\n",
              "      border-bottom-color: var(--fill-color);\n",
              "    }\n",
              "    90% {\n",
              "      border-color: transparent;\n",
              "      border-bottom-color: var(--fill-color);\n",
              "    }\n",
              "  }\n",
              "</style>\n",
              "\n",
              "  <script>\n",
              "    async function quickchart(key) {\n",
              "      const quickchartButtonEl =\n",
              "        document.querySelector('#' + key + ' button');\n",
              "      quickchartButtonEl.disabled = true;  // To prevent multiple clicks.\n",
              "      quickchartButtonEl.classList.add('colab-df-spinner');\n",
              "      try {\n",
              "        const charts = await google.colab.kernel.invokeFunction(\n",
              "            'suggestCharts', [key], {});\n",
              "      } catch (error) {\n",
              "        console.error('Error during call to suggestCharts:', error);\n",
              "      }\n",
              "      quickchartButtonEl.classList.remove('colab-df-spinner');\n",
              "      quickchartButtonEl.classList.add('colab-df-quickchart-complete');\n",
              "    }\n",
              "    (() => {\n",
              "      let quickchartButtonEl =\n",
              "        document.querySelector('#df-984a4dc2-b9eb-4aba-8fef-3f78b71498bd button');\n",
              "      quickchartButtonEl.style.display =\n",
              "        google.colab.kernel.accessAllowed ? 'block' : 'none';\n",
              "    })();\n",
              "  </script>\n",
              "</div>\n",
              "\n",
              "    </div>\n",
              "  </div>\n"
            ],
            "application/vnd.google.colaboratory.intrinsic+json": {
              "type": "dataframe",
              "variable_name": "working_df",
              "summary": "{\n  \"name\": \"working_df\",\n  \"rows\": 3494,\n  \"fields\": [\n    {\n      \"column\": \"tow_date\",\n      \"properties\": {\n        \"dtype\": \"object\",\n        \"num_unique_values\": 91,\n        \"samples\": [\n          \"2024-03-20T00:00:00.000\",\n          \"2024-04-07T00:00:00.000\",\n          \"2024-03-05T00:00:00.000\"\n        ],\n        \"semantic_type\": \"\",\n        \"description\": \"\"\n      }\n    },\n    {\n      \"column\": \"make\",\n      \"properties\": {\n        \"dtype\": \"category\",\n        \"num_unique_values\": 74,\n        \"samples\": [\n          \"CHRY\",\n          \"SAA\",\n          \"SATR\"\n        ],\n        \"semantic_type\": \"\",\n        \"description\": \"\"\n      }\n    },\n    {\n      \"column\": \"style\",\n      \"properties\": {\n        \"dtype\": \"category\",\n        \"num_unique_values\": 32,\n        \"samples\": [\n          \"RD\",\n          \"BT\",\n          \"MS\"\n        ],\n        \"semantic_type\": \"\",\n        \"description\": \"\"\n      }\n    },\n    {\n      \"column\": \"color\",\n      \"properties\": {\n        \"dtype\": \"category\",\n        \"num_unique_values\": 23,\n        \"samples\": [\n          \"LBL\",\n          \"BRO\",\n          \"SIL\"\n        ],\n        \"semantic_type\": \"\",\n        \"description\": \"\"\n      }\n    },\n    {\n      \"column\": \"plate\",\n      \"properties\": {\n        \"dtype\": \"string\",\n        \"num_unique_values\": 2669,\n        \"samples\": [\n          \"EC60650\",\n          \"Z858508\",\n          \"DA96883\"\n        ],\n        \"semantic_type\": \"\",\n        \"description\": \"\"\n      }\n    },\n    {\n      \"column\": \"state\",\n      \"properties\": {\n        \"dtype\": \"category\",\n        \"num_unique_values\": 36,\n        \"samples\": [\n          \"CT\",\n          \"IA\",\n          \"CA\"\n        ],\n        \"semantic_type\": \"\",\n        \"description\": \"\"\n      }\n    },\n    {\n      \"column\": \"towed_to_address\",\n      \"properties\": {\n        \"dtype\": \"category\",\n        \"num_unique_values\": 4,\n        \"samples\": [\n          \"400 E. Lower Wacker\",\n          \"Chicago O'hare International Airport remote lot E.\",\n          \"701 N. Sacramento\"\n        ],\n        \"semantic_type\": \"\",\n        \"description\": \"\"\n      }\n    },\n    {\n      \"column\": \"tow_facility_phone\",\n      \"properties\": {\n        \"dtype\": \"category\",\n        \"num_unique_values\": 6,\n        \"samples\": [\n          \"(773) 265-7605\",\n          \"(312) 744-7550\",\n          \"(312) 746-6350\"\n        ],\n        \"semantic_type\": \"\",\n        \"description\": \"\"\n      }\n    },\n    {\n      \"column\": \"inventory_number\",\n      \"properties\": {\n        \"dtype\": \"string\",\n        \"num_unique_values\": 3491,\n        \"samples\": [\n          \"7089426\",\n          \"2968282\",\n          \"2968080\"\n        ],\n        \"semantic_type\": \"\",\n        \"description\": \"\"\n      }\n    },\n    {\n      \"column\": \"model\",\n      \"properties\": {\n        \"dtype\": \"category\",\n        \"num_unique_values\": 42,\n        \"samples\": [\n          \"MAX\",\n          \"GRM\",\n          \"ALT\"\n        ],\n        \"semantic_type\": \"\",\n        \"description\": \"\"\n      }\n    }\n  ]\n}"
            }
          },
          "metadata": {},
          "execution_count": 6
        }
      ]
    },
    {
      "cell_type": "code",
      "source": [
        "#check cols\n",
        "for column in range(working_df.shape[1]):\n",
        "  print(working_df[working_df.columns[column]].count())"
      ],
      "metadata": {
        "colab": {
          "base_uri": "https://localhost:8080/"
        },
        "id": "JiFzGdKk1GVo",
        "outputId": "8f6826d0-d94d-4cc2-f04d-0793f6f3bc48"
      },
      "execution_count": null,
      "outputs": [
        {
          "output_type": "stream",
          "name": "stdout",
          "text": [
            "3494\n",
            "3456\n",
            "3479\n",
            "3462\n",
            "2677\n",
            "3380\n",
            "3494\n",
            "3494\n",
            "3494\n",
            "183\n"
          ]
        }
      ]
    },
    {
      "cell_type": "markdown",
      "source": [
        "There are no steps I need to take in dealing with NA values for the dataset as the only column I need is dates which has no missing values"
      ],
      "metadata": {
        "id": "8kT5-Awk1LJ6"
      }
    },
    {
      "cell_type": "code",
      "source": [
        "#seperates the time code from date to create date col\n",
        "working_df['Date'] = pd.to_datetime(working_df['tow_date'])\n",
        "working_df['Date'] = working_df['Date'].dt.date\n",
        "#check\n",
        "working_df.head()"
      ],
      "metadata": {
        "colab": {
          "base_uri": "https://localhost:8080/",
          "height": 226
        },
        "id": "OUHIxWd61Yb0",
        "outputId": "00fd19df-44c6-4a16-a671-540ab458e348"
      },
      "execution_count": null,
      "outputs": [
        {
          "output_type": "execute_result",
          "data": {
            "text/plain": [
              "                  tow_date  make style color    plate state  \\\n",
              "0  2024-04-29T00:00:00.000  ACUR    LL   SIL  DS70128    IL   \n",
              "1  2024-04-29T00:00:00.000  ACUR    LL   GRY  EG65497    IL   \n",
              "2  2024-04-29T00:00:00.000  AUDI    4D   BLK  CY57416    IL   \n",
              "3  2024-04-29T00:00:00.000   BMW    LL   BLU   DEB720    MI   \n",
              "4  2024-04-29T00:00:00.000  CHEV    4D   SIL  DH84493    IL   \n",
              "\n",
              "      towed_to_address tow_facility_phone inventory_number model        Date  \n",
              "0    701 N. Sacramento     (773) 265-7605          7089744   NaN  2024-04-29  \n",
              "1  400 E. Lower Wacker     (312) 744-7550          0301945   NaN  2024-04-29  \n",
              "2        10300 S. Doty     (773) 568-8495          2968597   NaN  2024-04-29  \n",
              "3    701 N. Sacramento     (773) 265-1846          1547336   NaN  2024-04-29  \n",
              "4  400 E. Lower Wacker     (312) 744-7550          0301943   NaN  2024-04-29  "
            ],
            "text/html": [
              "\n",
              "  <div id=\"df-bbad10cb-0924-4ffa-9c1f-5dc62e101a62\" class=\"colab-df-container\">\n",
              "    <div>\n",
              "<style scoped>\n",
              "    .dataframe tbody tr th:only-of-type {\n",
              "        vertical-align: middle;\n",
              "    }\n",
              "\n",
              "    .dataframe tbody tr th {\n",
              "        vertical-align: top;\n",
              "    }\n",
              "\n",
              "    .dataframe thead th {\n",
              "        text-align: right;\n",
              "    }\n",
              "</style>\n",
              "<table border=\"1\" class=\"dataframe\">\n",
              "  <thead>\n",
              "    <tr style=\"text-align: right;\">\n",
              "      <th></th>\n",
              "      <th>tow_date</th>\n",
              "      <th>make</th>\n",
              "      <th>style</th>\n",
              "      <th>color</th>\n",
              "      <th>plate</th>\n",
              "      <th>state</th>\n",
              "      <th>towed_to_address</th>\n",
              "      <th>tow_facility_phone</th>\n",
              "      <th>inventory_number</th>\n",
              "      <th>model</th>\n",
              "      <th>Date</th>\n",
              "    </tr>\n",
              "  </thead>\n",
              "  <tbody>\n",
              "    <tr>\n",
              "      <th>0</th>\n",
              "      <td>2024-04-29T00:00:00.000</td>\n",
              "      <td>ACUR</td>\n",
              "      <td>LL</td>\n",
              "      <td>SIL</td>\n",
              "      <td>DS70128</td>\n",
              "      <td>IL</td>\n",
              "      <td>701 N. Sacramento</td>\n",
              "      <td>(773) 265-7605</td>\n",
              "      <td>7089744</td>\n",
              "      <td>NaN</td>\n",
              "      <td>2024-04-29</td>\n",
              "    </tr>\n",
              "    <tr>\n",
              "      <th>1</th>\n",
              "      <td>2024-04-29T00:00:00.000</td>\n",
              "      <td>ACUR</td>\n",
              "      <td>LL</td>\n",
              "      <td>GRY</td>\n",
              "      <td>EG65497</td>\n",
              "      <td>IL</td>\n",
              "      <td>400 E. Lower Wacker</td>\n",
              "      <td>(312) 744-7550</td>\n",
              "      <td>0301945</td>\n",
              "      <td>NaN</td>\n",
              "      <td>2024-04-29</td>\n",
              "    </tr>\n",
              "    <tr>\n",
              "      <th>2</th>\n",
              "      <td>2024-04-29T00:00:00.000</td>\n",
              "      <td>AUDI</td>\n",
              "      <td>4D</td>\n",
              "      <td>BLK</td>\n",
              "      <td>CY57416</td>\n",
              "      <td>IL</td>\n",
              "      <td>10300 S. Doty</td>\n",
              "      <td>(773) 568-8495</td>\n",
              "      <td>2968597</td>\n",
              "      <td>NaN</td>\n",
              "      <td>2024-04-29</td>\n",
              "    </tr>\n",
              "    <tr>\n",
              "      <th>3</th>\n",
              "      <td>2024-04-29T00:00:00.000</td>\n",
              "      <td>BMW</td>\n",
              "      <td>LL</td>\n",
              "      <td>BLU</td>\n",
              "      <td>DEB720</td>\n",
              "      <td>MI</td>\n",
              "      <td>701 N. Sacramento</td>\n",
              "      <td>(773) 265-1846</td>\n",
              "      <td>1547336</td>\n",
              "      <td>NaN</td>\n",
              "      <td>2024-04-29</td>\n",
              "    </tr>\n",
              "    <tr>\n",
              "      <th>4</th>\n",
              "      <td>2024-04-29T00:00:00.000</td>\n",
              "      <td>CHEV</td>\n",
              "      <td>4D</td>\n",
              "      <td>SIL</td>\n",
              "      <td>DH84493</td>\n",
              "      <td>IL</td>\n",
              "      <td>400 E. Lower Wacker</td>\n",
              "      <td>(312) 744-7550</td>\n",
              "      <td>0301943</td>\n",
              "      <td>NaN</td>\n",
              "      <td>2024-04-29</td>\n",
              "    </tr>\n",
              "  </tbody>\n",
              "</table>\n",
              "</div>\n",
              "    <div class=\"colab-df-buttons\">\n",
              "\n",
              "  <div class=\"colab-df-container\">\n",
              "    <button class=\"colab-df-convert\" onclick=\"convertToInteractive('df-bbad10cb-0924-4ffa-9c1f-5dc62e101a62')\"\n",
              "            title=\"Convert this dataframe to an interactive table.\"\n",
              "            style=\"display:none;\">\n",
              "\n",
              "  <svg xmlns=\"http://www.w3.org/2000/svg\" height=\"24px\" viewBox=\"0 -960 960 960\">\n",
              "    <path d=\"M120-120v-720h720v720H120Zm60-500h600v-160H180v160Zm220 220h160v-160H400v160Zm0 220h160v-160H400v160ZM180-400h160v-160H180v160Zm440 0h160v-160H620v160ZM180-180h160v-160H180v160Zm440 0h160v-160H620v160Z\"/>\n",
              "  </svg>\n",
              "    </button>\n",
              "\n",
              "  <style>\n",
              "    .colab-df-container {\n",
              "      display:flex;\n",
              "      gap: 12px;\n",
              "    }\n",
              "\n",
              "    .colab-df-convert {\n",
              "      background-color: #E8F0FE;\n",
              "      border: none;\n",
              "      border-radius: 50%;\n",
              "      cursor: pointer;\n",
              "      display: none;\n",
              "      fill: #1967D2;\n",
              "      height: 32px;\n",
              "      padding: 0 0 0 0;\n",
              "      width: 32px;\n",
              "    }\n",
              "\n",
              "    .colab-df-convert:hover {\n",
              "      background-color: #E2EBFA;\n",
              "      box-shadow: 0px 1px 2px rgba(60, 64, 67, 0.3), 0px 1px 3px 1px rgba(60, 64, 67, 0.15);\n",
              "      fill: #174EA6;\n",
              "    }\n",
              "\n",
              "    .colab-df-buttons div {\n",
              "      margin-bottom: 4px;\n",
              "    }\n",
              "\n",
              "    [theme=dark] .colab-df-convert {\n",
              "      background-color: #3B4455;\n",
              "      fill: #D2E3FC;\n",
              "    }\n",
              "\n",
              "    [theme=dark] .colab-df-convert:hover {\n",
              "      background-color: #434B5C;\n",
              "      box-shadow: 0px 1px 3px 1px rgba(0, 0, 0, 0.15);\n",
              "      filter: drop-shadow(0px 1px 2px rgba(0, 0, 0, 0.3));\n",
              "      fill: #FFFFFF;\n",
              "    }\n",
              "  </style>\n",
              "\n",
              "    <script>\n",
              "      const buttonEl =\n",
              "        document.querySelector('#df-bbad10cb-0924-4ffa-9c1f-5dc62e101a62 button.colab-df-convert');\n",
              "      buttonEl.style.display =\n",
              "        google.colab.kernel.accessAllowed ? 'block' : 'none';\n",
              "\n",
              "      async function convertToInteractive(key) {\n",
              "        const element = document.querySelector('#df-bbad10cb-0924-4ffa-9c1f-5dc62e101a62');\n",
              "        const dataTable =\n",
              "          await google.colab.kernel.invokeFunction('convertToInteractive',\n",
              "                                                    [key], {});\n",
              "        if (!dataTable) return;\n",
              "\n",
              "        const docLinkHtml = 'Like what you see? Visit the ' +\n",
              "          '<a target=\"_blank\" href=https://colab.research.google.com/notebooks/data_table.ipynb>data table notebook</a>'\n",
              "          + ' to learn more about interactive tables.';\n",
              "        element.innerHTML = '';\n",
              "        dataTable['output_type'] = 'display_data';\n",
              "        await google.colab.output.renderOutput(dataTable, element);\n",
              "        const docLink = document.createElement('div');\n",
              "        docLink.innerHTML = docLinkHtml;\n",
              "        element.appendChild(docLink);\n",
              "      }\n",
              "    </script>\n",
              "  </div>\n",
              "\n",
              "\n",
              "<div id=\"df-7b1a2a6e-12f9-4af9-86ab-45cbede0eb42\">\n",
              "  <button class=\"colab-df-quickchart\" onclick=\"quickchart('df-7b1a2a6e-12f9-4af9-86ab-45cbede0eb42')\"\n",
              "            title=\"Suggest charts\"\n",
              "            style=\"display:none;\">\n",
              "\n",
              "<svg xmlns=\"http://www.w3.org/2000/svg\" height=\"24px\"viewBox=\"0 0 24 24\"\n",
              "     width=\"24px\">\n",
              "    <g>\n",
              "        <path d=\"M19 3H5c-1.1 0-2 .9-2 2v14c0 1.1.9 2 2 2h14c1.1 0 2-.9 2-2V5c0-1.1-.9-2-2-2zM9 17H7v-7h2v7zm4 0h-2V7h2v10zm4 0h-2v-4h2v4z\"/>\n",
              "    </g>\n",
              "</svg>\n",
              "  </button>\n",
              "\n",
              "<style>\n",
              "  .colab-df-quickchart {\n",
              "      --bg-color: #E8F0FE;\n",
              "      --fill-color: #1967D2;\n",
              "      --hover-bg-color: #E2EBFA;\n",
              "      --hover-fill-color: #174EA6;\n",
              "      --disabled-fill-color: #AAA;\n",
              "      --disabled-bg-color: #DDD;\n",
              "  }\n",
              "\n",
              "  [theme=dark] .colab-df-quickchart {\n",
              "      --bg-color: #3B4455;\n",
              "      --fill-color: #D2E3FC;\n",
              "      --hover-bg-color: #434B5C;\n",
              "      --hover-fill-color: #FFFFFF;\n",
              "      --disabled-bg-color: #3B4455;\n",
              "      --disabled-fill-color: #666;\n",
              "  }\n",
              "\n",
              "  .colab-df-quickchart {\n",
              "    background-color: var(--bg-color);\n",
              "    border: none;\n",
              "    border-radius: 50%;\n",
              "    cursor: pointer;\n",
              "    display: none;\n",
              "    fill: var(--fill-color);\n",
              "    height: 32px;\n",
              "    padding: 0;\n",
              "    width: 32px;\n",
              "  }\n",
              "\n",
              "  .colab-df-quickchart:hover {\n",
              "    background-color: var(--hover-bg-color);\n",
              "    box-shadow: 0 1px 2px rgba(60, 64, 67, 0.3), 0 1px 3px 1px rgba(60, 64, 67, 0.15);\n",
              "    fill: var(--button-hover-fill-color);\n",
              "  }\n",
              "\n",
              "  .colab-df-quickchart-complete:disabled,\n",
              "  .colab-df-quickchart-complete:disabled:hover {\n",
              "    background-color: var(--disabled-bg-color);\n",
              "    fill: var(--disabled-fill-color);\n",
              "    box-shadow: none;\n",
              "  }\n",
              "\n",
              "  .colab-df-spinner {\n",
              "    border: 2px solid var(--fill-color);\n",
              "    border-color: transparent;\n",
              "    border-bottom-color: var(--fill-color);\n",
              "    animation:\n",
              "      spin 1s steps(1) infinite;\n",
              "  }\n",
              "\n",
              "  @keyframes spin {\n",
              "    0% {\n",
              "      border-color: transparent;\n",
              "      border-bottom-color: var(--fill-color);\n",
              "      border-left-color: var(--fill-color);\n",
              "    }\n",
              "    20% {\n",
              "      border-color: transparent;\n",
              "      border-left-color: var(--fill-color);\n",
              "      border-top-color: var(--fill-color);\n",
              "    }\n",
              "    30% {\n",
              "      border-color: transparent;\n",
              "      border-left-color: var(--fill-color);\n",
              "      border-top-color: var(--fill-color);\n",
              "      border-right-color: var(--fill-color);\n",
              "    }\n",
              "    40% {\n",
              "      border-color: transparent;\n",
              "      border-right-color: var(--fill-color);\n",
              "      border-top-color: var(--fill-color);\n",
              "    }\n",
              "    60% {\n",
              "      border-color: transparent;\n",
              "      border-right-color: var(--fill-color);\n",
              "    }\n",
              "    80% {\n",
              "      border-color: transparent;\n",
              "      border-right-color: var(--fill-color);\n",
              "      border-bottom-color: var(--fill-color);\n",
              "    }\n",
              "    90% {\n",
              "      border-color: transparent;\n",
              "      border-bottom-color: var(--fill-color);\n",
              "    }\n",
              "  }\n",
              "</style>\n",
              "\n",
              "  <script>\n",
              "    async function quickchart(key) {\n",
              "      const quickchartButtonEl =\n",
              "        document.querySelector('#' + key + ' button');\n",
              "      quickchartButtonEl.disabled = true;  // To prevent multiple clicks.\n",
              "      quickchartButtonEl.classList.add('colab-df-spinner');\n",
              "      try {\n",
              "        const charts = await google.colab.kernel.invokeFunction(\n",
              "            'suggestCharts', [key], {});\n",
              "      } catch (error) {\n",
              "        console.error('Error during call to suggestCharts:', error);\n",
              "      }\n",
              "      quickchartButtonEl.classList.remove('colab-df-spinner');\n",
              "      quickchartButtonEl.classList.add('colab-df-quickchart-complete');\n",
              "    }\n",
              "    (() => {\n",
              "      let quickchartButtonEl =\n",
              "        document.querySelector('#df-7b1a2a6e-12f9-4af9-86ab-45cbede0eb42 button');\n",
              "      quickchartButtonEl.style.display =\n",
              "        google.colab.kernel.accessAllowed ? 'block' : 'none';\n",
              "    })();\n",
              "  </script>\n",
              "</div>\n",
              "\n",
              "    </div>\n",
              "  </div>\n"
            ],
            "application/vnd.google.colaboratory.intrinsic+json": {
              "type": "dataframe",
              "variable_name": "working_df",
              "summary": "{\n  \"name\": \"working_df\",\n  \"rows\": 3494,\n  \"fields\": [\n    {\n      \"column\": \"tow_date\",\n      \"properties\": {\n        \"dtype\": \"object\",\n        \"num_unique_values\": 91,\n        \"samples\": [\n          \"2024-03-20T00:00:00.000\",\n          \"2024-04-07T00:00:00.000\",\n          \"2024-03-05T00:00:00.000\"\n        ],\n        \"semantic_type\": \"\",\n        \"description\": \"\"\n      }\n    },\n    {\n      \"column\": \"make\",\n      \"properties\": {\n        \"dtype\": \"category\",\n        \"num_unique_values\": 74,\n        \"samples\": [\n          \"CHRY\",\n          \"SAA\",\n          \"SATR\"\n        ],\n        \"semantic_type\": \"\",\n        \"description\": \"\"\n      }\n    },\n    {\n      \"column\": \"style\",\n      \"properties\": {\n        \"dtype\": \"category\",\n        \"num_unique_values\": 32,\n        \"samples\": [\n          \"RD\",\n          \"BT\",\n          \"MS\"\n        ],\n        \"semantic_type\": \"\",\n        \"description\": \"\"\n      }\n    },\n    {\n      \"column\": \"color\",\n      \"properties\": {\n        \"dtype\": \"category\",\n        \"num_unique_values\": 23,\n        \"samples\": [\n          \"LBL\",\n          \"BRO\",\n          \"SIL\"\n        ],\n        \"semantic_type\": \"\",\n        \"description\": \"\"\n      }\n    },\n    {\n      \"column\": \"plate\",\n      \"properties\": {\n        \"dtype\": \"string\",\n        \"num_unique_values\": 2669,\n        \"samples\": [\n          \"EC60650\",\n          \"Z858508\",\n          \"DA96883\"\n        ],\n        \"semantic_type\": \"\",\n        \"description\": \"\"\n      }\n    },\n    {\n      \"column\": \"state\",\n      \"properties\": {\n        \"dtype\": \"category\",\n        \"num_unique_values\": 36,\n        \"samples\": [\n          \"CT\",\n          \"IA\",\n          \"CA\"\n        ],\n        \"semantic_type\": \"\",\n        \"description\": \"\"\n      }\n    },\n    {\n      \"column\": \"towed_to_address\",\n      \"properties\": {\n        \"dtype\": \"category\",\n        \"num_unique_values\": 4,\n        \"samples\": [\n          \"400 E. Lower Wacker\",\n          \"Chicago O'hare International Airport remote lot E.\",\n          \"701 N. Sacramento\"\n        ],\n        \"semantic_type\": \"\",\n        \"description\": \"\"\n      }\n    },\n    {\n      \"column\": \"tow_facility_phone\",\n      \"properties\": {\n        \"dtype\": \"category\",\n        \"num_unique_values\": 6,\n        \"samples\": [\n          \"(773) 265-7605\",\n          \"(312) 744-7550\",\n          \"(312) 746-6350\"\n        ],\n        \"semantic_type\": \"\",\n        \"description\": \"\"\n      }\n    },\n    {\n      \"column\": \"inventory_number\",\n      \"properties\": {\n        \"dtype\": \"string\",\n        \"num_unique_values\": 3491,\n        \"samples\": [\n          \"7089426\",\n          \"2968282\",\n          \"2968080\"\n        ],\n        \"semantic_type\": \"\",\n        \"description\": \"\"\n      }\n    },\n    {\n      \"column\": \"model\",\n      \"properties\": {\n        \"dtype\": \"category\",\n        \"num_unique_values\": 42,\n        \"samples\": [\n          \"MAX\",\n          \"GRM\",\n          \"ALT\"\n        ],\n        \"semantic_type\": \"\",\n        \"description\": \"\"\n      }\n    },\n    {\n      \"column\": \"Date\",\n      \"properties\": {\n        \"dtype\": \"date\",\n        \"min\": \"2024-01-30\",\n        \"max\": \"2024-04-29\",\n        \"num_unique_values\": 91,\n        \"samples\": [\n          \"2024-03-20\",\n          \"2024-04-07\",\n          \"2024-03-05\"\n        ],\n        \"semantic_type\": \"\",\n        \"description\": \"\"\n      }\n    }\n  ]\n}"
            }
          },
          "metadata": {},
          "execution_count": 8
        }
      ]
    },
    {
      "cell_type": "code",
      "source": [
        "#could not get the api from https://www.visualcrossing.com/weather/weather-data-services to work\n",
        "#data is also from there\n",
        "#data from beyond 2021 was behind a paywall\n",
        "#load weather data\n",
        "weather_df = pd.read_csv('/content/Chicago,United States 2021-07-06 to 2024-03-31.csv')\n",
        "weather_df.head()"
      ],
      "metadata": {
        "colab": {
          "base_uri": "https://localhost:8080/",
          "height": 429
        },
        "id": "hlXGNN831uEt",
        "outputId": "2aa5c276-6e88-494b-83d6-c66076c4d17f"
      },
      "execution_count": null,
      "outputs": [
        {
          "output_type": "execute_result",
          "data": {
            "text/plain": [
              "                    name    datetime  tempmax  tempmin  temp  feelslikemax  \\\n",
              "0  Chicago,United States  2021-07-06     90.9     77.1  83.6          92.6   \n",
              "1  Chicago,United States  2021-07-07     88.9     69.6  79.0          89.9   \n",
              "2  Chicago,United States  2021-07-08     68.9     64.1  66.1          68.9   \n",
              "3  Chicago,United States  2021-07-09     75.6     59.5  68.2          75.6   \n",
              "4  Chicago,United States  2021-07-10     74.8     64.6  69.4          74.8   \n",
              "\n",
              "   feelslikemin  feelslike   dew  humidity  ...  solarenergy  uvindex  \\\n",
              "0          77.1       85.2  66.6      57.6  ...         12.7        8   \n",
              "1          69.6       79.6  65.7      65.4  ...          8.2        5   \n",
              "2          64.1       66.1  58.5      76.7  ...          2.2        1   \n",
              "3          59.5       68.2  50.5      56.2  ...         11.7        7   \n",
              "4          64.6       69.4  60.4      73.5  ...          9.0        6   \n",
              "\n",
              "   severerisk              sunrise               sunset  moonphase  \\\n",
              "0         NaN  2021-07-06T05:22:18  2021-07-06T20:28:13       0.89   \n",
              "1         NaN  2021-07-07T05:22:58  2021-07-07T20:27:52       0.92   \n",
              "2         NaN  2021-07-08T05:23:38  2021-07-08T20:27:29       0.96   \n",
              "3         NaN  2021-07-09T05:24:20  2021-07-09T20:27:04       0.00   \n",
              "4         NaN  2021-07-10T05:25:03  2021-07-10T20:26:37       0.02   \n",
              "\n",
              "               conditions                                  description  \\\n",
              "0        Partially cloudy            Partly cloudy throughout the day.   \n",
              "1        Partially cloudy            Partly cloudy throughout the day.   \n",
              "2                Overcast             Cloudy skies throughout the day.   \n",
              "3        Partially cloudy            Partly cloudy throughout the day.   \n",
              "4  Rain, Partially cloudy  Partly cloudy throughout the day with rain.   \n",
              "\n",
              "                icon                                           stations  \n",
              "0  partly-cloudy-day  72534014819,AP878,KORD,KMDW,72530094846,F1983,...  \n",
              "1  partly-cloudy-day  72534014819,KORD,KMDW,72530094846,F1983,F7086,...  \n",
              "2             cloudy  72534014819,AP878,C8740,KORD,KMDW,72530094846,...  \n",
              "3  partly-cloudy-day  72534014819,AP878,KORD,KMDW,72530094846,F1983,...  \n",
              "4               rain  72534014819,AP878,C8740,KORD,KMDW,72530094846,...  \n",
              "\n",
              "[5 rows x 33 columns]"
            ],
            "text/html": [
              "\n",
              "  <div id=\"df-2a0311d3-cb2b-403d-a19e-1c0ed949845e\" class=\"colab-df-container\">\n",
              "    <div>\n",
              "<style scoped>\n",
              "    .dataframe tbody tr th:only-of-type {\n",
              "        vertical-align: middle;\n",
              "    }\n",
              "\n",
              "    .dataframe tbody tr th {\n",
              "        vertical-align: top;\n",
              "    }\n",
              "\n",
              "    .dataframe thead th {\n",
              "        text-align: right;\n",
              "    }\n",
              "</style>\n",
              "<table border=\"1\" class=\"dataframe\">\n",
              "  <thead>\n",
              "    <tr style=\"text-align: right;\">\n",
              "      <th></th>\n",
              "      <th>name</th>\n",
              "      <th>datetime</th>\n",
              "      <th>tempmax</th>\n",
              "      <th>tempmin</th>\n",
              "      <th>temp</th>\n",
              "      <th>feelslikemax</th>\n",
              "      <th>feelslikemin</th>\n",
              "      <th>feelslike</th>\n",
              "      <th>dew</th>\n",
              "      <th>humidity</th>\n",
              "      <th>...</th>\n",
              "      <th>solarenergy</th>\n",
              "      <th>uvindex</th>\n",
              "      <th>severerisk</th>\n",
              "      <th>sunrise</th>\n",
              "      <th>sunset</th>\n",
              "      <th>moonphase</th>\n",
              "      <th>conditions</th>\n",
              "      <th>description</th>\n",
              "      <th>icon</th>\n",
              "      <th>stations</th>\n",
              "    </tr>\n",
              "  </thead>\n",
              "  <tbody>\n",
              "    <tr>\n",
              "      <th>0</th>\n",
              "      <td>Chicago,United States</td>\n",
              "      <td>2021-07-06</td>\n",
              "      <td>90.9</td>\n",
              "      <td>77.1</td>\n",
              "      <td>83.6</td>\n",
              "      <td>92.6</td>\n",
              "      <td>77.1</td>\n",
              "      <td>85.2</td>\n",
              "      <td>66.6</td>\n",
              "      <td>57.6</td>\n",
              "      <td>...</td>\n",
              "      <td>12.7</td>\n",
              "      <td>8</td>\n",
              "      <td>NaN</td>\n",
              "      <td>2021-07-06T05:22:18</td>\n",
              "      <td>2021-07-06T20:28:13</td>\n",
              "      <td>0.89</td>\n",
              "      <td>Partially cloudy</td>\n",
              "      <td>Partly cloudy throughout the day.</td>\n",
              "      <td>partly-cloudy-day</td>\n",
              "      <td>72534014819,AP878,KORD,KMDW,72530094846,F1983,...</td>\n",
              "    </tr>\n",
              "    <tr>\n",
              "      <th>1</th>\n",
              "      <td>Chicago,United States</td>\n",
              "      <td>2021-07-07</td>\n",
              "      <td>88.9</td>\n",
              "      <td>69.6</td>\n",
              "      <td>79.0</td>\n",
              "      <td>89.9</td>\n",
              "      <td>69.6</td>\n",
              "      <td>79.6</td>\n",
              "      <td>65.7</td>\n",
              "      <td>65.4</td>\n",
              "      <td>...</td>\n",
              "      <td>8.2</td>\n",
              "      <td>5</td>\n",
              "      <td>NaN</td>\n",
              "      <td>2021-07-07T05:22:58</td>\n",
              "      <td>2021-07-07T20:27:52</td>\n",
              "      <td>0.92</td>\n",
              "      <td>Partially cloudy</td>\n",
              "      <td>Partly cloudy throughout the day.</td>\n",
              "      <td>partly-cloudy-day</td>\n",
              "      <td>72534014819,KORD,KMDW,72530094846,F1983,F7086,...</td>\n",
              "    </tr>\n",
              "    <tr>\n",
              "      <th>2</th>\n",
              "      <td>Chicago,United States</td>\n",
              "      <td>2021-07-08</td>\n",
              "      <td>68.9</td>\n",
              "      <td>64.1</td>\n",
              "      <td>66.1</td>\n",
              "      <td>68.9</td>\n",
              "      <td>64.1</td>\n",
              "      <td>66.1</td>\n",
              "      <td>58.5</td>\n",
              "      <td>76.7</td>\n",
              "      <td>...</td>\n",
              "      <td>2.2</td>\n",
              "      <td>1</td>\n",
              "      <td>NaN</td>\n",
              "      <td>2021-07-08T05:23:38</td>\n",
              "      <td>2021-07-08T20:27:29</td>\n",
              "      <td>0.96</td>\n",
              "      <td>Overcast</td>\n",
              "      <td>Cloudy skies throughout the day.</td>\n",
              "      <td>cloudy</td>\n",
              "      <td>72534014819,AP878,C8740,KORD,KMDW,72530094846,...</td>\n",
              "    </tr>\n",
              "    <tr>\n",
              "      <th>3</th>\n",
              "      <td>Chicago,United States</td>\n",
              "      <td>2021-07-09</td>\n",
              "      <td>75.6</td>\n",
              "      <td>59.5</td>\n",
              "      <td>68.2</td>\n",
              "      <td>75.6</td>\n",
              "      <td>59.5</td>\n",
              "      <td>68.2</td>\n",
              "      <td>50.5</td>\n",
              "      <td>56.2</td>\n",
              "      <td>...</td>\n",
              "      <td>11.7</td>\n",
              "      <td>7</td>\n",
              "      <td>NaN</td>\n",
              "      <td>2021-07-09T05:24:20</td>\n",
              "      <td>2021-07-09T20:27:04</td>\n",
              "      <td>0.00</td>\n",
              "      <td>Partially cloudy</td>\n",
              "      <td>Partly cloudy throughout the day.</td>\n",
              "      <td>partly-cloudy-day</td>\n",
              "      <td>72534014819,AP878,KORD,KMDW,72530094846,F1983,...</td>\n",
              "    </tr>\n",
              "    <tr>\n",
              "      <th>4</th>\n",
              "      <td>Chicago,United States</td>\n",
              "      <td>2021-07-10</td>\n",
              "      <td>74.8</td>\n",
              "      <td>64.6</td>\n",
              "      <td>69.4</td>\n",
              "      <td>74.8</td>\n",
              "      <td>64.6</td>\n",
              "      <td>69.4</td>\n",
              "      <td>60.4</td>\n",
              "      <td>73.5</td>\n",
              "      <td>...</td>\n",
              "      <td>9.0</td>\n",
              "      <td>6</td>\n",
              "      <td>NaN</td>\n",
              "      <td>2021-07-10T05:25:03</td>\n",
              "      <td>2021-07-10T20:26:37</td>\n",
              "      <td>0.02</td>\n",
              "      <td>Rain, Partially cloudy</td>\n",
              "      <td>Partly cloudy throughout the day with rain.</td>\n",
              "      <td>rain</td>\n",
              "      <td>72534014819,AP878,C8740,KORD,KMDW,72530094846,...</td>\n",
              "    </tr>\n",
              "  </tbody>\n",
              "</table>\n",
              "<p>5 rows × 33 columns</p>\n",
              "</div>\n",
              "    <div class=\"colab-df-buttons\">\n",
              "\n",
              "  <div class=\"colab-df-container\">\n",
              "    <button class=\"colab-df-convert\" onclick=\"convertToInteractive('df-2a0311d3-cb2b-403d-a19e-1c0ed949845e')\"\n",
              "            title=\"Convert this dataframe to an interactive table.\"\n",
              "            style=\"display:none;\">\n",
              "\n",
              "  <svg xmlns=\"http://www.w3.org/2000/svg\" height=\"24px\" viewBox=\"0 -960 960 960\">\n",
              "    <path d=\"M120-120v-720h720v720H120Zm60-500h600v-160H180v160Zm220 220h160v-160H400v160Zm0 220h160v-160H400v160ZM180-400h160v-160H180v160Zm440 0h160v-160H620v160ZM180-180h160v-160H180v160Zm440 0h160v-160H620v160Z\"/>\n",
              "  </svg>\n",
              "    </button>\n",
              "\n",
              "  <style>\n",
              "    .colab-df-container {\n",
              "      display:flex;\n",
              "      gap: 12px;\n",
              "    }\n",
              "\n",
              "    .colab-df-convert {\n",
              "      background-color: #E8F0FE;\n",
              "      border: none;\n",
              "      border-radius: 50%;\n",
              "      cursor: pointer;\n",
              "      display: none;\n",
              "      fill: #1967D2;\n",
              "      height: 32px;\n",
              "      padding: 0 0 0 0;\n",
              "      width: 32px;\n",
              "    }\n",
              "\n",
              "    .colab-df-convert:hover {\n",
              "      background-color: #E2EBFA;\n",
              "      box-shadow: 0px 1px 2px rgba(60, 64, 67, 0.3), 0px 1px 3px 1px rgba(60, 64, 67, 0.15);\n",
              "      fill: #174EA6;\n",
              "    }\n",
              "\n",
              "    .colab-df-buttons div {\n",
              "      margin-bottom: 4px;\n",
              "    }\n",
              "\n",
              "    [theme=dark] .colab-df-convert {\n",
              "      background-color: #3B4455;\n",
              "      fill: #D2E3FC;\n",
              "    }\n",
              "\n",
              "    [theme=dark] .colab-df-convert:hover {\n",
              "      background-color: #434B5C;\n",
              "      box-shadow: 0px 1px 3px 1px rgba(0, 0, 0, 0.15);\n",
              "      filter: drop-shadow(0px 1px 2px rgba(0, 0, 0, 0.3));\n",
              "      fill: #FFFFFF;\n",
              "    }\n",
              "  </style>\n",
              "\n",
              "    <script>\n",
              "      const buttonEl =\n",
              "        document.querySelector('#df-2a0311d3-cb2b-403d-a19e-1c0ed949845e button.colab-df-convert');\n",
              "      buttonEl.style.display =\n",
              "        google.colab.kernel.accessAllowed ? 'block' : 'none';\n",
              "\n",
              "      async function convertToInteractive(key) {\n",
              "        const element = document.querySelector('#df-2a0311d3-cb2b-403d-a19e-1c0ed949845e');\n",
              "        const dataTable =\n",
              "          await google.colab.kernel.invokeFunction('convertToInteractive',\n",
              "                                                    [key], {});\n",
              "        if (!dataTable) return;\n",
              "\n",
              "        const docLinkHtml = 'Like what you see? Visit the ' +\n",
              "          '<a target=\"_blank\" href=https://colab.research.google.com/notebooks/data_table.ipynb>data table notebook</a>'\n",
              "          + ' to learn more about interactive tables.';\n",
              "        element.innerHTML = '';\n",
              "        dataTable['output_type'] = 'display_data';\n",
              "        await google.colab.output.renderOutput(dataTable, element);\n",
              "        const docLink = document.createElement('div');\n",
              "        docLink.innerHTML = docLinkHtml;\n",
              "        element.appendChild(docLink);\n",
              "      }\n",
              "    </script>\n",
              "  </div>\n",
              "\n",
              "\n",
              "<div id=\"df-4790766d-6d62-447a-867c-a9e55461f008\">\n",
              "  <button class=\"colab-df-quickchart\" onclick=\"quickchart('df-4790766d-6d62-447a-867c-a9e55461f008')\"\n",
              "            title=\"Suggest charts\"\n",
              "            style=\"display:none;\">\n",
              "\n",
              "<svg xmlns=\"http://www.w3.org/2000/svg\" height=\"24px\"viewBox=\"0 0 24 24\"\n",
              "     width=\"24px\">\n",
              "    <g>\n",
              "        <path d=\"M19 3H5c-1.1 0-2 .9-2 2v14c0 1.1.9 2 2 2h14c1.1 0 2-.9 2-2V5c0-1.1-.9-2-2-2zM9 17H7v-7h2v7zm4 0h-2V7h2v10zm4 0h-2v-4h2v4z\"/>\n",
              "    </g>\n",
              "</svg>\n",
              "  </button>\n",
              "\n",
              "<style>\n",
              "  .colab-df-quickchart {\n",
              "      --bg-color: #E8F0FE;\n",
              "      --fill-color: #1967D2;\n",
              "      --hover-bg-color: #E2EBFA;\n",
              "      --hover-fill-color: #174EA6;\n",
              "      --disabled-fill-color: #AAA;\n",
              "      --disabled-bg-color: #DDD;\n",
              "  }\n",
              "\n",
              "  [theme=dark] .colab-df-quickchart {\n",
              "      --bg-color: #3B4455;\n",
              "      --fill-color: #D2E3FC;\n",
              "      --hover-bg-color: #434B5C;\n",
              "      --hover-fill-color: #FFFFFF;\n",
              "      --disabled-bg-color: #3B4455;\n",
              "      --disabled-fill-color: #666;\n",
              "  }\n",
              "\n",
              "  .colab-df-quickchart {\n",
              "    background-color: var(--bg-color);\n",
              "    border: none;\n",
              "    border-radius: 50%;\n",
              "    cursor: pointer;\n",
              "    display: none;\n",
              "    fill: var(--fill-color);\n",
              "    height: 32px;\n",
              "    padding: 0;\n",
              "    width: 32px;\n",
              "  }\n",
              "\n",
              "  .colab-df-quickchart:hover {\n",
              "    background-color: var(--hover-bg-color);\n",
              "    box-shadow: 0 1px 2px rgba(60, 64, 67, 0.3), 0 1px 3px 1px rgba(60, 64, 67, 0.15);\n",
              "    fill: var(--button-hover-fill-color);\n",
              "  }\n",
              "\n",
              "  .colab-df-quickchart-complete:disabled,\n",
              "  .colab-df-quickchart-complete:disabled:hover {\n",
              "    background-color: var(--disabled-bg-color);\n",
              "    fill: var(--disabled-fill-color);\n",
              "    box-shadow: none;\n",
              "  }\n",
              "\n",
              "  .colab-df-spinner {\n",
              "    border: 2px solid var(--fill-color);\n",
              "    border-color: transparent;\n",
              "    border-bottom-color: var(--fill-color);\n",
              "    animation:\n",
              "      spin 1s steps(1) infinite;\n",
              "  }\n",
              "\n",
              "  @keyframes spin {\n",
              "    0% {\n",
              "      border-color: transparent;\n",
              "      border-bottom-color: var(--fill-color);\n",
              "      border-left-color: var(--fill-color);\n",
              "    }\n",
              "    20% {\n",
              "      border-color: transparent;\n",
              "      border-left-color: var(--fill-color);\n",
              "      border-top-color: var(--fill-color);\n",
              "    }\n",
              "    30% {\n",
              "      border-color: transparent;\n",
              "      border-left-color: var(--fill-color);\n",
              "      border-top-color: var(--fill-color);\n",
              "      border-right-color: var(--fill-color);\n",
              "    }\n",
              "    40% {\n",
              "      border-color: transparent;\n",
              "      border-right-color: var(--fill-color);\n",
              "      border-top-color: var(--fill-color);\n",
              "    }\n",
              "    60% {\n",
              "      border-color: transparent;\n",
              "      border-right-color: var(--fill-color);\n",
              "    }\n",
              "    80% {\n",
              "      border-color: transparent;\n",
              "      border-right-color: var(--fill-color);\n",
              "      border-bottom-color: var(--fill-color);\n",
              "    }\n",
              "    90% {\n",
              "      border-color: transparent;\n",
              "      border-bottom-color: var(--fill-color);\n",
              "    }\n",
              "  }\n",
              "</style>\n",
              "\n",
              "  <script>\n",
              "    async function quickchart(key) {\n",
              "      const quickchartButtonEl =\n",
              "        document.querySelector('#' + key + ' button');\n",
              "      quickchartButtonEl.disabled = true;  // To prevent multiple clicks.\n",
              "      quickchartButtonEl.classList.add('colab-df-spinner');\n",
              "      try {\n",
              "        const charts = await google.colab.kernel.invokeFunction(\n",
              "            'suggestCharts', [key], {});\n",
              "      } catch (error) {\n",
              "        console.error('Error during call to suggestCharts:', error);\n",
              "      }\n",
              "      quickchartButtonEl.classList.remove('colab-df-spinner');\n",
              "      quickchartButtonEl.classList.add('colab-df-quickchart-complete');\n",
              "    }\n",
              "    (() => {\n",
              "      let quickchartButtonEl =\n",
              "        document.querySelector('#df-4790766d-6d62-447a-867c-a9e55461f008 button');\n",
              "      quickchartButtonEl.style.display =\n",
              "        google.colab.kernel.accessAllowed ? 'block' : 'none';\n",
              "    })();\n",
              "  </script>\n",
              "</div>\n",
              "\n",
              "    </div>\n",
              "  </div>\n"
            ],
            "application/vnd.google.colaboratory.intrinsic+json": {
              "type": "dataframe",
              "variable_name": "weather_df"
            }
          },
          "metadata": {},
          "execution_count": 9
        }
      ]
    },
    {
      "cell_type": "code",
      "source": [
        "#pd date\n",
        "working_df['Date'] = pd.to_datetime(working_df['Date'])\n",
        "working_df['Date_Only'] = working_df['Date'].dt.date\n",
        "#set the working df to have the same date range and the weather df\n",
        "start_date = pd.Timestamp('2021-07-06')\n",
        "end_date = pd.Timestamp('2024-03-31')\n",
        "working_df = working_df[(working_df['Date'] >= start_date) & (working_df['Date'] <= end_date)]"
      ],
      "metadata": {
        "id": "HwPBKlrA1_Rw"
      },
      "execution_count": null,
      "outputs": []
    },
    {
      "cell_type": "code",
      "source": [
        "#map the two dataframes together using\n",
        "weather_df.rename(columns={'datetime': 'Date'}, inplace=True)\n",
        "weather_df['Date'] = pd.to_datetime(weather_df['Date'])\n",
        "merged_df = pd.merge(working_df, weather_df, on='Date', how='left')"
      ],
      "metadata": {
        "id": "0P8NA3rv2AjO"
      },
      "execution_count": null,
      "outputs": []
    },
    {
      "cell_type": "code",
      "source": [
        "#create a column that specifies if it rained(or snowed) that day or not\n",
        "merged_df['rain'] = merged_df['precip'].apply(lambda x: 'Yes' if x > 0 else 'No')\n",
        "merged_df['snow2'] = merged_df['snow'].apply(lambda x: 'Yes' if x > 0 else 'No')"
      ],
      "metadata": {
        "id": "8Fotcft_2Gtg"
      },
      "execution_count": null,
      "outputs": []
    },
    {
      "cell_type": "code",
      "source": [
        "#check cols\n",
        "print(merged_df.columns)"
      ],
      "metadata": {
        "colab": {
          "base_uri": "https://localhost:8080/"
        },
        "id": "3IlFNXu52Nzj",
        "outputId": "51cda1ef-09c6-4328-c08d-9361133aa469"
      },
      "execution_count": null,
      "outputs": [
        {
          "output_type": "stream",
          "name": "stdout",
          "text": [
            "Index(['tow_date', 'make', 'style', 'color', 'plate', 'state',\n",
            "       'towed_to_address', 'tow_facility_phone', 'inventory_number', 'model',\n",
            "       'Date', 'Date_Only', 'name', 'tempmax', 'tempmin', 'temp',\n",
            "       'feelslikemax', 'feelslikemin', 'feelslike', 'dew', 'humidity',\n",
            "       'precip', 'precipprob', 'precipcover', 'preciptype', 'snow',\n",
            "       'snowdepth', 'windgust', 'windspeed', 'winddir', 'sealevelpressure',\n",
            "       'cloudcover', 'visibility', 'solarradiation', 'solarenergy', 'uvindex',\n",
            "       'severerisk', 'sunrise', 'sunset', 'moonphase', 'conditions',\n",
            "       'description', 'icon', 'stations', 'rain', 'snow2'],\n",
            "      dtype='object')\n"
          ]
        }
      ]
    },
    {
      "cell_type": "code",
      "source": [
        "#simplify cols\n",
        "merged_df=merged_df[['plate','Date','rain','snow2',\"precip\",\"snow\"]]"
      ],
      "metadata": {
        "id": "C7vcXbXe2PV1"
      },
      "execution_count": null,
      "outputs": []
    },
    {
      "cell_type": "code",
      "source": [
        "def count_rain(df):\n",
        "  count = df.groupby('rain').size().reset_index(name='Towed Cars Count')\n",
        "  print(count)\n",
        "\n",
        "count_rain(merged_df)"
      ],
      "metadata": {
        "colab": {
          "base_uri": "https://localhost:8080/"
        },
        "id": "kn6Kd7Qz2SV8",
        "outputId": "e0629a0d-b245-458b-cc67-4be053bab708"
      },
      "execution_count": null,
      "outputs": [
        {
          "output_type": "stream",
          "name": "stdout",
          "text": [
            "  rain  Towed Cars Count\n",
            "0   No              1350\n",
            "1  Yes               595\n"
          ]
        }
      ]
    },
    {
      "cell_type": "markdown",
      "source": [
        "More cars were towed on days without rain compared to days with rain. This does not account for the amount of rainy days vs the amount of non rainy days so there needs to be a further examination of the data."
      ],
      "metadata": {
        "id": "R7biyk-D2bHK"
      }
    },
    {
      "cell_type": "code",
      "source": [
        "def percentage_rainy(df):\n",
        "  unique_dates=df.drop_duplicates('Date')\n",
        "  rainy_days=unique_dates[unique_dates['rain']=='Yes']\n",
        "  rainy_days_count=len(rainy_days)\n",
        "  days=len(unique_dates)\n",
        "  percentage_rainy=(rainy_days_count/days)*100\n",
        "  return percentage_rainy\n",
        "\n",
        "percentage = percentage_rainy(merged_df)\n",
        "print(\"Percentage of individual rainy days:\", percentage)"
      ],
      "metadata": {
        "colab": {
          "base_uri": "https://localhost:8080/"
        },
        "id": "3bxLo_lC3CMi",
        "outputId": "4d833bfd-7de3-430a-d044-509cc671149e"
      },
      "execution_count": null,
      "outputs": [
        {
          "output_type": "stream",
          "name": "stdout",
          "text": [
            "Percentage of individual rainy days: 30.64516129032258\n"
          ]
        }
      ]
    },
    {
      "cell_type": "markdown",
      "source": [
        "The function percentage_rainy goes through the data and finds the percentage of days that there was rain where a car was also towed. The percentage of rainy days in the data is 36.23%."
      ],
      "metadata": {
        "id": "HPiqWXNi3JFJ"
      }
    },
    {
      "cell_type": "code",
      "source": [
        "def percentage_snowy(df):\n",
        "  unique_dates=df.drop_duplicates('Date')\n",
        "  snowy_days=unique_dates[unique_dates['snow2']=='Yes']\n",
        "  snowy_days_count=len(snowy_days)\n",
        "  days=len(unique_dates)\n",
        "  percentage_snowy=(snowy_days_count/days)*100\n",
        "  return percentage_snowy\n",
        "\n",
        "percentage2 = percentage_snowy(merged_df)\n",
        "print(\"Percentage of individual snowy days:\", percentage2)"
      ],
      "metadata": {
        "colab": {
          "base_uri": "https://localhost:8080/"
        },
        "id": "NDMOLZXG3IL3",
        "outputId": "1209bfda-92dd-4d64-e288-5f2c887af05a"
      },
      "execution_count": null,
      "outputs": [
        {
          "output_type": "stream",
          "name": "stdout",
          "text": [
            "Percentage of individual snowy days: 8.064516129032258\n"
          ]
        }
      ]
    },
    {
      "cell_type": "markdown",
      "source": [
        "The rain column in the data frame also includes if it has snowed or not. To look at just the snow, the snow2 column is used. The function percentage_snowy goes through the data and finds the percentage of days that there was snow and at least one car was towed.   The percentage of snowy days is 10.14%."
      ],
      "metadata": {
        "id": "CL7p9nA23piO"
      }
    },
    {
      "cell_type": "code",
      "source": [
        "def percentage_rainonly(df):\n",
        "    unique_dates = df.drop_duplicates('Date')\n",
        "    rainy_days = unique_dates[(unique_dates['rain'] == 'Yes') & (unique_dates['snow2'] == 'No')]\n",
        "    rainy_days_count = len(rainy_days)\n",
        "    days = len(unique_dates)\n",
        "    percentage_rainyonly = (rainy_days_count / days) * 100\n",
        "    return percentage_rainyonly\n",
        "\n",
        "percentage3 = percentage_rainonly(merged_df)\n",
        "print(\"Percentage of individual rainy days (without snow):\", percentage3)"
      ],
      "metadata": {
        "colab": {
          "base_uri": "https://localhost:8080/"
        },
        "id": "g50sHM4Y6NaQ",
        "outputId": "8c8d0d5b-c17d-46c9-e494-ea4a5e9b39f5"
      },
      "execution_count": null,
      "outputs": [
        {
          "output_type": "stream",
          "name": "stdout",
          "text": [
            "Percentage of individual rainy days (without snow): 22.58064516129032\n"
          ]
        }
      ]
    },
    {
      "cell_type": "markdown",
      "source": [
        "The function percentage_rainonly goes through the data and counts the cases where there was precipitation that day but there was no snow. 23.09% of the day's at least one car was towed also had rain but no snow."
      ],
      "metadata": {
        "id": "BDkQb6VX6kCu"
      }
    },
    {
      "cell_type": "code",
      "source": [
        "#create a df that has the count of cars towed for every day\n",
        "merged_df2 = merged_df.groupby('Date').agg({'rain': 'first', 'Date': 'size'}).rename(columns={'Date': 'num_towed'}).reset_index()\n",
        "merged_df3 = merged_df.groupby('Date').agg({'snow2': 'first', 'Date': 'size'}).rename(columns={'Date': 'num_towed'}).reset_index()\n",
        "merged_df['precipitation'] = (merged_df['rain'] == 'Yes') | (merged_df['snow2'] == 'Yes')\n",
        "nopercip = merged_df[merged_df['precipitation'] == False].groupby('Date').agg({'rain': 'first', 'Date': 'size'}).rename(columns={'Date': 'num_towed'}).reset_index()\n",
        "nosnow = merged_df[(merged_df['rain'] == 'Yes') & (merged_df['snow2'] == 'No')].groupby('Date').agg({'rain': 'first', 'Date': 'size'}).rename(columns={'Date': 'num_towed'}).reset_index()\n",
        "merged_df4 = pd.concat([nopercip, nosnow])"
      ],
      "metadata": {
        "id": "pGLuqh6O7HQv"
      },
      "execution_count": null,
      "outputs": []
    },
    {
      "cell_type": "code",
      "source": [
        "#vis for rainy and snowy vs non rainy days\n",
        "merged_df2['Date'] = pd.to_datetime(merged_df2['Date'])\n",
        "grouped_df = merged_df2.groupby(['Date', 'rain']).agg({'num_towed': 'sum'}).reset_index()\n",
        "plt.figure(figsize=(10, 6))\n",
        "events_when_rain = grouped_df[grouped_df['rain'] == 'Yes']['num_towed'].sum()\n",
        "events_when_no_rain = grouped_df[grouped_df['rain'] == 'No']['num_towed'].sum()\n",
        "plt.bar(['Rain or Snow', 'No Rain or Snow'], [events_when_rain, events_when_no_rain], color=['blue', 'grey'])\n",
        "plt.title('Number of Cars Towed When It Rained or Snowed vs. When It Did Not Rain or Snow')\n",
        "plt.xlabel('Weather Condition')\n",
        "plt.ylabel('Number of Cars Towed')\n",
        "plt.show()"
      ],
      "metadata": {
        "colab": {
          "base_uri": "https://localhost:8080/",
          "height": 564
        },
        "id": "CKoUsM8Y8tuI",
        "outputId": "554e491c-ea3c-4352-d6a0-832a2be4dc4b"
      },
      "execution_count": null,
      "outputs": [
        {
          "output_type": "display_data",
          "data": {
            "text/plain": [
              "<Figure size 1000x600 with 1 Axes>"
            ],
            "image/png": "[encoded data removed]"
          },
          "metadata": {}
        }
      ]
    },
    {
      "cell_type": "code",
      "source": [
        "#vis for snowy vs non snowy days\n",
        "merged_df3['Date'] = pd.to_datetime(merged_df3['Date'])\n",
        "grouped_df = merged_df3.groupby(['Date', 'snow2']).agg({'num_towed': 'sum'}).reset_index()\n",
        "plt.figure(figsize=(10, 6))\n",
        "events_when_snow = grouped_df[grouped_df['snow2'] == 'Yes']['num_towed'].sum()\n",
        "events_when_no_snow = grouped_df[grouped_df['snow2'] == 'No']['num_towed'].sum()\n",
        "plt.bar(['Snow', 'No Snow'], [events_when_rain, events_when_no_snow], color=['blue', 'grey'])\n",
        "plt.title('Number of Cars Towed When It Snowed vs. When It Did Not Snow')\n",
        "plt.xlabel('Weather Condition')\n",
        "plt.ylabel('Number of Cars Towed')\n",
        "plt.show()"
      ],
      "metadata": {
        "colab": {
          "base_uri": "https://localhost:8080/",
          "height": 564
        },
        "id": "4fF4iwbs9ElJ",
        "outputId": "f0e472b1-5f2b-427f-ad23-a655fc87f6d3"
      },
      "execution_count": null,
      "outputs": [
        {
          "output_type": "display_data",
          "data": {
            "text/plain": [
              "<Figure size 1000x600 with 1 Axes>"
            ],
            "image/png": "[encoded data removed]"
          },
          "metadata": {}
        }
      ]
    },
    {
      "cell_type": "code",
      "source": [
        "#vis for rainy vs non rainy days\n",
        "merged_df4['Date'] = pd.to_datetime(merged_df4['Date'])\n",
        "grouped_df = merged_df4.groupby(['Date', 'rain']).agg({'num_towed': 'sum'}).reset_index()\n",
        "plt.figure(figsize=(10, 6))\n",
        "events_when_rain = grouped_df[grouped_df['rain'] == 'Yes']['num_towed'].sum()\n",
        "events_when_no_rain = grouped_df[grouped_df['rain'] == 'No']['num_towed'].sum()\n",
        "plt.bar(['Rain', 'No Rain'], [events_when_rain, events_when_no_rain], color=['blue', 'grey'])\n",
        "plt.title('Number of Cars Towed When It Rained vs. When It Did Not Rain')\n",
        "plt.xlabel('Weather Condition')\n",
        "plt.ylabel('Number of Cars Towed')\n",
        "plt.show()"
      ],
      "metadata": {
        "colab": {
          "base_uri": "https://localhost:8080/",
          "height": 564
        },
        "id": "r_a_hYOX9MFL",
        "outputId": "8b324b55-89bc-4fc9-fc96-635eec7116a5"
      },
      "execution_count": null,
      "outputs": [
        {
          "output_type": "display_data",
          "data": {
            "text/plain": [
              "<Figure size 1000x600 with 1 Axes>"
            ],
            "image/png": "[encoded data removed]"
          },
          "metadata": {}
        }
      ]
    },
    {
      "cell_type": "markdown",
      "source": [
        "The three graphs above count the number of cars towed when the event occured and when the event did not occur. Unlike the previous functions which only counted the number of induvidual days which the even occured the graphs also account for the fact that multiple cars can be towed on the same day. From all three graphs we can see that more cars were towed on days were the event did not occur. The graphs also reveal that even through there is a smaller percentage of days where it was snowy vs when it was rainy, more cars were towed on days where it was snowy compared to days wher it was rainy."
      ],
      "metadata": {
        "id": "xo0QE0Ck_FpS"
      }
    },
    {
      "cell_type": "code",
      "source": [
        "#vis for rainy days\n",
        "rain_count = merged_df2['rain'].value_counts()\n",
        "rain_count.plot(kind='bar', color=['grey', 'blue'])\n",
        "plt.xlabel('Rain or Snow')\n",
        "plt.ylabel('Frequency')\n",
        "plt.title('Frequency of Rainy vs Non-Rainy Days')\n",
        "for i in range(len(rain_count)):\n",
        "    plt.text(i, rain_count[i] + 0.5, rain_count[i], ha='center')\n",
        "plt.show()"
      ],
      "metadata": {
        "colab": {
          "base_uri": "https://localhost:8080/",
          "height": 480
        },
        "id": "75_wFkQtAb3A",
        "outputId": "5d6ec98c-dcaf-4f16-adea-f24775b85542"
      },
      "execution_count": null,
      "outputs": [
        {
          "output_type": "display_data",
          "data": {
            "text/plain": [
              "<Figure size 640x480 with 1 Axes>"
            ],
            "image/png": "[encoded data removed]"
          },
          "metadata": {}
        }
      ]
    },
    {
      "cell_type": "code",
      "source": [
        "#vis for snowy days\n",
        "rain_count = merged_df3['snow2'].value_counts()\n",
        "rain_count.plot(kind='bar', color=['grey', 'blue'])\n",
        "plt.xlabel('Snow')\n",
        "plt.ylabel('Frequency')\n",
        "plt.title('Frequency of Snowy vs Non-Snowy Days')\n",
        "for i in range(len(rain_count)):\n",
        "    plt.text(i, rain_count[i] + 0.5, rain_count[i], ha='center')\n",
        "plt.show()"
      ],
      "metadata": {
        "colab": {
          "base_uri": "https://localhost:8080/",
          "height": 480
        },
        "id": "qz5YfWk5Aek_",
        "outputId": "112d6396-cfc2-4821-f11c-588bac256f9f"
      },
      "execution_count": null,
      "outputs": [
        {
          "output_type": "display_data",
          "data": {
            "text/plain": [
              "<Figure size 640x480 with 1 Axes>"
            ],
            "image/png": "[encoded data removed]"
          },
          "metadata": {}
        }
      ]
    },
    {
      "cell_type": "code",
      "source": [
        "#vis for rainy days\n",
        "rain_count = merged_df4['rain'].value_counts()\n",
        "rain_count.plot(kind='bar', color=['grey', 'blue'])\n",
        "plt.xlabel('Rain')\n",
        "plt.ylabel('Frequency')\n",
        "plt.title('Frequency of Rainy vs Non-Rainy Days')\n",
        "for i in range(len(rain_count)):\n",
        "    plt.text(i, rain_count[i] + 0.5, rain_count[i], ha='center')\n",
        "plt.show()"
      ],
      "metadata": {
        "colab": {
          "base_uri": "https://localhost:8080/",
          "height": 480
        },
        "id": "YKc64PXlAsCb",
        "outputId": "6982b93a-2116-4d3d-ea54-0e2d3127ff7e"
      },
      "execution_count": null,
      "outputs": [
        {
          "output_type": "display_data",
          "data": {
            "text/plain": [
              "<Figure size 640x480 with 1 Axes>"
            ],
            "image/png": "[encoded data removed]"
          },
          "metadata": {}
        }
      ]
    },
    {
      "cell_type": "code",
      "source": [
        "merged_df['Date'] = pd.to_datetime(merged_df['Date'])\n",
        "merged_df['Month'] = merged_df['Date'].dt.month\n",
        "month_counts = merged_df['Month'].value_counts()\n",
        "most_common_month = month_counts.idxmax()\n",
        "most_common_month_name = pd.to_datetime(str(most_common_month), format='%m').strftime('%B')\n",
        "print(\"The month that appears the most in the df is:\", most_common_month_name)"
      ],
      "metadata": {
        "colab": {
          "base_uri": "https://localhost:8080/"
        },
        "id": "w8rA-StPCVbg",
        "outputId": "a044ae6d-6e07-4a58-cf3d-7596f96cb65c"
      },
      "execution_count": null,
      "outputs": [
        {
          "output_type": "stream",
          "name": "stdout",
          "text": [
            "The month that appears the most in the df is: March\n"
          ]
        }
      ]
    },
    {
      "cell_type": "markdown",
      "source": [
        "The code above finds the month that had the most cars towed. The month that had the most cars towed was March"
      ],
      "metadata": {
        "id": "oFq5KEU_Caq2"
      }
    },
    {
      "cell_type": "code",
      "source": [
        "merged_df['Date'] = pd.to_datetime(merged_df['Date'])\n",
        "march_data = merged_df[(merged_df['Date'].dt.month == 3)]\n",
        "daily_precipitation = march_data.groupby(merged_df['Date'].dt.date)['precip'].sum()\n",
        "plt.figure(figsize=(12, 6))\n",
        "plt.bar(daily_precipitation.index, daily_precipitation.values, color='skyblue')\n",
        "plt.title('Total Precipitation for Each Day in March')\n",
        "plt.xlabel('Date')\n",
        "plt.ylabel('Total Precipitation (mm)')\n",
        "plt.xticks(rotation=45)\n",
        "plt.tight_layout()\n",
        "plt.show()"
      ],
      "metadata": {
        "colab": {
          "base_uri": "https://localhost:8080/",
          "height": 529
        },
        "id": "XQK3TxbsC6yU",
        "outputId": "7b6e9022-369d-4a2c-965c-867cc099f388"
      },
      "execution_count": null,
      "outputs": [
        {
          "output_type": "display_data",
          "data": {
            "text/plain": [
              "<Figure size 1200x600 with 1 Axes>"
            ],
            "image/png": "[encoded data removed]"
          },
          "metadata": {}
        }
      ]
    },
    {
      "cell_type": "markdown",
      "source": [
        "The figure above shows the percipatation in mm for every day a car was towed in March, 2024"
      ],
      "metadata": {
        "id": "pyvgnTgIDDc-"
      }
    },
    {
      "cell_type": "code",
      "source": [
        "merged_df['Date'] = pd.to_datetime(merged_df['Date'])\n",
        "merged_df['Month'] = merged_df['Date'].dt.month\n",
        "month_counts = merged_df['Month'].value_counts()\n",
        "least_common_month = month_counts.idxmin()\n",
        "least_common_month_name = pd.to_datetime(str(least_common_month), format='%m').strftime('%B')\n",
        "print(\"The month that appears the least is:\", least_common_month_name)"
      ],
      "metadata": {
        "colab": {
          "base_uri": "https://localhost:8080/"
        },
        "id": "K3kufF_Q-_ni",
        "outputId": "436b8407-13fb-4c19-e9c7-8203487ffb71"
      },
      "execution_count": null,
      "outputs": [
        {
          "output_type": "stream",
          "name": "stdout",
          "text": [
            "The month that appears the least is: January\n"
          ]
        }
      ]
    },
    {
      "cell_type": "markdown",
      "source": [
        "The code above finds the month that had the least cars towed. The month that had the least cars towed was January."
      ],
      "metadata": {
        "id": "IizqfPip_SZw"
      }
    },
    {
      "cell_type": "code",
      "source": [
        "january_data = merged_df[(merged_df['Date'].dt.month == 1)]\n",
        "if 'precip' in january_data.columns:\n",
        "    daily_data = january_data.groupby(january_data['Date'].dt.date)['precip'].sum()\n",
        "    ylabel = 'Total Precipitation (mm)'\n",
        "else:\n",
        "    print(\"NA\")\n",
        "    sys.exit()\n",
        "plt.figure(figsize=(12, 6))\n",
        "plt.bar(daily_data.index, daily_data.values, color='blue')\n",
        "plt.title('Total Precipitation for Each Unique Day in January')\n",
        "plt.xlabel('Date')\n",
        "plt.ylabel(ylabel)\n",
        "plt.xticks(rotation=45)\n",
        "plt.tight_layout()\n",
        "plt.show()"
      ],
      "metadata": {
        "colab": {
          "base_uri": "https://localhost:8080/",
          "height": 526
        },
        "id": "1vmrPipyuS0E",
        "outputId": "8bdbad7c-ace6-4f2a-e678-477132aa80ad"
      },
      "execution_count": null,
      "outputs": [
        {
          "output_type": "display_data",
          "data": {
            "text/plain": [
              "<Figure size 1200x600 with 1 Axes>"
            ],
            "image/png": "[encoded data removed]"
          },
          "metadata": {}
        }
      ]
    },
    {
      "cell_type": "code",
      "source": [
        "merged_df['Date'] = pd.to_datetime(merged_df['Date'])\n",
        "weather_df['Date'] = pd.to_datetime(weather_df['Date'])\n",
        "unique_dates_weather = set(weather_df['Date'].dt.date.unique())\n",
        "unique_dates_merged = set(merged_df['Date'].dt.date.unique())\n",
        "missing_dates = sorted(unique_dates_weather - unique_dates_merged)\n",
        "missing_dates_df = pd.DataFrame(missing_dates, columns=['Date'])\n",
        "missing_weather_data = weather_df[weather_df['Date'].dt.date.isin(missing_dates)]\n",
        "missing_dates_df['Date'] = pd.to_datetime(missing_dates_df['Date'])\n",
        "missing_data_with_weather = pd.concat([missing_dates_df.set_index('Date'), missing_weather_data.set_index('Date')], axis=1, join='outer').reset_index()\n",
        "print(\"DataFrame of days in weather_df that do not appear in merged_df with precip and snow:\")\n",
        "print(missing_data_with_weather)"
      ],
      "metadata": {
        "colab": {
          "base_uri": "https://localhost:8080/"
        },
        "id": "n1AH45KHDZxw",
        "outputId": "72266c83-c9ac-45cf-e58c-ca22a80412d0"
      },
      "execution_count": null,
      "outputs": [
        {
          "output_type": "stream",
          "name": "stdout",
          "text": [
            "DataFrame of days in weather_df that do not appear in merged_df with precip and snow:\n",
            "          Date                   name  tempmax  tempmin  temp  feelslikemax  \\\n",
            "0   2021-07-06  Chicago,United States     90.9     77.1  83.6          92.6   \n",
            "1   2021-07-07  Chicago,United States     88.9     69.6  79.0          89.9   \n",
            "2   2021-07-08  Chicago,United States     68.9     64.1  66.1          68.9   \n",
            "3   2021-07-09  Chicago,United States     75.6     59.5  68.2          75.6   \n",
            "4   2021-07-10  Chicago,United States     74.8     64.6  69.4          74.8   \n",
            "..         ...                    ...      ...      ...   ...           ...   \n",
            "933 2024-01-25  Chicago,United States     40.0     37.0  38.6          35.7   \n",
            "934 2024-01-26  Chicago,United States     41.3     38.3  39.3          39.2   \n",
            "935 2024-01-27  Chicago,United States     41.5     37.3  38.7          38.4   \n",
            "936 2024-01-28  Chicago,United States     39.4     34.7  37.8          32.5   \n",
            "937 2024-01-29  Chicago,United States     39.4     31.4  34.9          32.1   \n",
            "\n",
            "     feelslikemin  feelslike   dew  humidity  ...  solarenergy  uvindex  \\\n",
            "0            77.1       85.2  66.6      57.6  ...         12.7        8   \n",
            "1            69.6       79.6  65.7      65.4  ...          8.2        5   \n",
            "2            64.1       66.1  58.5      76.7  ...          2.2        1   \n",
            "3            59.5       68.2  50.5      56.2  ...         11.7        7   \n",
            "4            64.6       69.4  60.4      73.5  ...          9.0        6   \n",
            "..            ...        ...   ...       ...  ...          ...      ...   \n",
            "933          31.6       33.2  37.2      94.6  ...          1.7        1   \n",
            "934          30.9       34.8  38.1      95.4  ...          1.1        1   \n",
            "935          30.9       34.7  37.1      94.1  ...          1.4        1   \n",
            "936          28.1       30.3  33.3      83.7  ...          1.8        1   \n",
            "937          23.4       27.2  30.5      83.9  ...          4.8        5   \n",
            "\n",
            "     severerisk              sunrise               sunset  moonphase  \\\n",
            "0           NaN  2021-07-06T05:22:18  2021-07-06T20:28:13       0.89   \n",
            "1           NaN  2021-07-07T05:22:58  2021-07-07T20:27:52       0.92   \n",
            "2           NaN  2021-07-08T05:23:38  2021-07-08T20:27:29       0.96   \n",
            "3           NaN  2021-07-09T05:24:20  2021-07-09T20:27:04       0.00   \n",
            "4           NaN  2021-07-10T05:25:03  2021-07-10T20:26:37       0.02   \n",
            "..          ...                  ...                  ...        ...   \n",
            "933        10.0  2024-01-25T07:09:50  2024-01-25T16:56:15       0.50   \n",
            "934        10.0  2024-01-26T07:09:02  2024-01-26T16:57:31       0.53   \n",
            "935        10.0  2024-01-27T07:08:11  2024-01-27T16:58:48       0.57   \n",
            "936        10.0  2024-01-28T07:07:19  2024-01-28T17:00:04       0.60   \n",
            "937        10.0  2024-01-29T07:06:25  2024-01-29T17:01:21       0.63   \n",
            "\n",
            "                 conditions  \\\n",
            "0          Partially cloudy   \n",
            "1          Partially cloudy   \n",
            "2                  Overcast   \n",
            "3          Partially cloudy   \n",
            "4    Rain, Partially cloudy   \n",
            "..                      ...   \n",
            "933          Rain, Overcast   \n",
            "934          Rain, Overcast   \n",
            "935          Rain, Overcast   \n",
            "936    Snow, Rain, Overcast   \n",
            "937        Partially cloudy   \n",
            "\n",
            "                                           description               icon  \\\n",
            "0                    Partly cloudy throughout the day.  partly-cloudy-day   \n",
            "1                    Partly cloudy throughout the day.  partly-cloudy-day   \n",
            "2                     Cloudy skies throughout the day.             cloudy   \n",
            "3                    Partly cloudy throughout the day.  partly-cloudy-day   \n",
            "4          Partly cloudy throughout the day with rain.               rain   \n",
            "..                                                 ...                ...   \n",
            "933  Cloudy skies throughout the day with late afte...               snow   \n",
            "934  Cloudy skies throughout the day with a chance ...               rain   \n",
            "935  Cloudy skies throughout the day with late afte...               rain   \n",
            "936  Cloudy skies throughout the day with early mor...               rain   \n",
            "937                  Partly cloudy throughout the day.  partly-cloudy-day   \n",
            "\n",
            "                                              stations  \n",
            "0    72534014819,AP878,KORD,KMDW,72530094846,F1983,...  \n",
            "1    72534014819,KORD,KMDW,72530094846,F1983,F7086,...  \n",
            "2    72534014819,AP878,C8740,KORD,KMDW,72530094846,...  \n",
            "3    72534014819,AP878,KORD,KMDW,72530094846,F1983,...  \n",
            "4    72534014819,AP878,C8740,KORD,KMDW,72530094846,...  \n",
            "..                                                 ...  \n",
            "933  72534014819,KORD,KMDW,72530094846,F1983,744665...  \n",
            "934  72534014819,KORD,KMDW,72530094846,F1983,744665...  \n",
            "935  72534014819,KORD,KMDW,72530094846,F1983,744665...  \n",
            "936  72534014819,KORD,KMDW,72530094846,F1983,744665...  \n",
            "937  72534014819,KORD,KMDW,72530094846,F1983,744665...  \n",
            "\n",
            "[938 rows x 33 columns]\n"
          ]
        }
      ]
    },
    {
      "cell_type": "code",
      "source": [
        "january_2024_data = missing_data_with_weather[(missing_data_with_weather['Date'].dt.year == 2024) & (missing_data_with_weather['Date'].dt.month == 1)]\n",
        "if 'snow' in january_2024_data.columns:\n",
        "    daily_data = january_2024_data.groupby(january_2024_data['Date'].dt.date)['snow'].sum()\n",
        "    ylabel = 'Total Snowfall (inches)'\n",
        "else:\n",
        "    daily_data = january_2024_data.groupby(january_2024_data['Date'].dt.date)['precip'].sum()\n",
        "    ylabel = 'Total Precipitation (mm)'\n",
        "plt.figure(figsize=(12, 6))\n",
        "plt.bar(daily_data.index, daily_data.values, color='blue')\n",
        "plt.title('Total Snowfall or Precipitation for Each Day in January 2024')\n",
        "plt.xlabel('Date')\n",
        "plt.ylabel(ylabel)\n",
        "plt.xticks(rotation=45)\n",
        "plt.tight_layout()\n",
        "plt.show()"
      ],
      "metadata": {
        "colab": {
          "base_uri": "https://localhost:8080/",
          "height": 527
        },
        "id": "F99LX1uiDbgU",
        "outputId": "2948aa06-0ac2-4a2c-d0e6-efc94f41911c"
      },
      "execution_count": null,
      "outputs": [
        {
          "output_type": "display_data",
          "data": {
            "text/plain": [
              "<Figure size 1200x600 with 1 Axes>"
            ],
            "image/png": "[encoded data removed]"
          },
          "metadata": {}
        }
      ]
    },
    {
      "cell_type": "code",
      "source": [
        "#mse\n",
        "#help from https://medium.com/@chandradip93/accuracy-score-and-mse-and-loss-function-23cabf70e2c4\n",
        "from sklearn.model_selection import train_test_split\n",
        "from sklearn.linear_model import LogisticRegression\n",
        "from sklearn.preprocessing import OneHotEncoder\n",
        "from sklearn.compose import ColumnTransformer\n",
        "from sklearn.pipeline import Pipeline\n",
        "from sklearn.metrics import mean_squared_error\n",
        "\n",
        "X = merged_df2[['rain']]\n",
        "y = merged_df2['num_towed']\n",
        "X_train, X_test, y_train, y_test = train_test_split(X, y, test_size=0.2, random_state=42)\n",
        "preprocessor = ColumnTransformer(\n",
        "    transformers=[\n",
        "        ('rain_encoder', OneHotEncoder(), ['rain'])\n",
        "    ],\n",
        "    remainder='passthrough'\n",
        ")\n",
        "\n",
        "model = Pipeline([\n",
        "    ('preprocessor', preprocessor),\n",
        "    ('classifier', LogisticRegression())\n",
        "])\n",
        "\n",
        "model.fit(X_train, y_train)\n",
        "\n",
        "coefficients = model.named_steps['classifier'].coef_\n",
        "intercept = model.named_steps['classifier'].intercept_\n",
        "\n",
        "print(\"Intercept:\", intercept)\n",
        "print(\"Coefficients for rain categories:\", coefficients)\n",
        "\n",
        "mse = mean_squared_error(y_test, y_pred)\n",
        "print(\"Mean Squared Error:\", mse)"
      ],
      "metadata": {
        "colab": {
          "base_uri": "https://localhost:8080/",
          "height": 808
        },
        "id": "VpolWEMHuz11",
        "outputId": "1f240fdc-b845-4290-b6ee-fea5a7b94c8b"
      },
      "execution_count": null,
      "outputs": [
        {
          "output_type": "stream",
          "name": "stdout",
          "text": [
            "Intercept: [ 0.45933434  0.41878318 -0.4988747  -0.4988747   0.11628594 -0.4988747\n",
            "  1.32884076 -0.23253699  0.11628594  0.76903678 -0.4988747  -0.4988747\n",
            "  0.76903678  0.11628594  0.41878318 -0.4988747  -0.4988747   0.86732868\n",
            "  0.11628594 -0.23253699  0.76903678 -0.4988747   0.41878318 -0.23253699\n",
            " -0.4988747  -0.4988747  -0.4988747  -0.4988747 ]\n",
            "Coefficients for rain categories: [[ 0.37896279 -0.37902987]\n",
            " [-0.28967537  0.28955203]\n",
            " [ 0.17781518 -0.17784811]\n",
            " [ 0.17781518 -0.17784811]\n",
            " [ 0.2931149  -0.2931231 ]\n",
            " [ 0.17781518 -0.17784811]\n",
            " [-0.26944792  0.2697114 ]\n",
            " [-0.52913421  0.52935147]\n",
            " [ 0.2931149  -0.2931231 ]\n",
            " [-0.13557059  0.13554566]\n",
            " [ 0.17781518 -0.17784811]\n",
            " [ 0.17781518 -0.17784811]\n",
            " [-0.13557059  0.13554566]\n",
            " [ 0.2931149  -0.2931231 ]\n",
            " [-0.28967537  0.28955203]\n",
            " [ 0.17781518 -0.17784811]\n",
            " [ 0.17781518 -0.17784811]\n",
            " [-0.55261616  0.55264064]\n",
            " [ 0.2931149  -0.2931231 ]\n",
            " [-0.52913421  0.52935147]\n",
            " [-0.13557059  0.13554566]\n",
            " [ 0.17781518 -0.17784811]\n",
            " [-0.28967537  0.28955203]\n",
            " [-0.52913421  0.52935147]\n",
            " [ 0.17781518 -0.17784811]\n",
            " [ 0.17781518 -0.17784811]\n",
            " [ 0.17781518 -0.17784811]\n",
            " [ 0.17781518 -0.17784811]]\n"
          ]
        },
        {
          "output_type": "error",
          "ename": "NameError",
          "evalue": "name 'y_pred' is not defined",
          "traceback": [
            "\u001b[0;31m---------------------------------------------------------------------------\u001b[0m",
            "\u001b[0;31mNameError\u001b[0m                                 Traceback (most recent call last)",
            "\u001b[0;32m<ipython-input-32-874f31b99662>\u001b[0m in \u001b[0;36m<cell line: 33>\u001b[0;34m()\u001b[0m\n\u001b[1;32m     31\u001b[0m \u001b[0mprint\u001b[0m\u001b[0;34m(\u001b[0m\u001b[0;34m\"Coefficients for rain categories:\"\u001b[0m\u001b[0;34m,\u001b[0m \u001b[0mcoefficients\u001b[0m\u001b[0;34m)\u001b[0m\u001b[0;34m\u001b[0m\u001b[0;34m\u001b[0m\u001b[0m\n\u001b[1;32m     32\u001b[0m \u001b[0;34m\u001b[0m\u001b[0m\n\u001b[0;32m---> 33\u001b[0;31m \u001b[0mmse\u001b[0m \u001b[0;34m=\u001b[0m \u001b[0mmean_squared_error\u001b[0m\u001b[0;34m(\u001b[0m\u001b[0my_test\u001b[0m\u001b[0;34m,\u001b[0m \u001b[0my_pred\u001b[0m\u001b[0;34m)\u001b[0m\u001b[0;34m\u001b[0m\u001b[0;34m\u001b[0m\u001b[0m\n\u001b[0m\u001b[1;32m     34\u001b[0m \u001b[0mprint\u001b[0m\u001b[0;34m(\u001b[0m\u001b[0;34m\"Mean Squared Error:\"\u001b[0m\u001b[0;34m,\u001b[0m \u001b[0mmse\u001b[0m\u001b[0;34m)\u001b[0m\u001b[0;34m\u001b[0m\u001b[0;34m\u001b[0m\u001b[0m\n",
            "\u001b[0;31mNameError\u001b[0m: name 'y_pred' is not defined"
          ]
        }
      ]
    },
    {
      "cell_type": "markdown",
      "source": [
        "The high MSE means that rain is not a good predictor (at least soley) for predicting if a car is going to be towed or not."
      ],
      "metadata": {
        "id": "PcMP502svE2u"
      }
    },
    {
      "cell_type": "code",
      "source": [
        "all_dates = pd.DataFrame({'date': pd.date_range(start=merged_df['Date'].min(), end=merged_df['Date'].max())})\n",
        "merged_data = pd.merge(all_dates, merged_df, how='left', left_on='date', right_on='Date')\n",
        "merged_data['car_towed'] = merged_data['Date'].apply(lambda x: '0' if pd.isnull(x) else '1')\n",
        "merged_data.drop(columns=['Date'], inplace=True)\n",
        "merged_data.reset_index(drop=True, inplace=True)\n",
        "weather_df.rename(columns={'Date': 'date'}, inplace=True)\n",
        "merged_data = pd.merge(merged_data, weather_df[['date', 'precip']], how='left', on='date')"
      ],
      "metadata": {
        "id": "xl1u4lS4E33m"
      },
      "execution_count": null,
      "outputs": []
    },
    {
      "cell_type": "code",
      "source": [
        "merged_data.dropna(subset=['precip_x'], inplace=True)"
      ],
      "metadata": {
        "id": "zExMKrjBG6n8"
      },
      "execution_count": null,
      "outputs": []
    },
    {
      "cell_type": "code",
      "source": [
        "merged_data.head()"
      ],
      "metadata": {
        "colab": {
          "base_uri": "https://localhost:8080/",
          "height": 206
        },
        "id": "A7A-4u_oi5MS",
        "outputId": "c49202ba-6861-4dd1-9e10-a9dc04fdfb10"
      },
      "execution_count": null,
      "outputs": [
        {
          "output_type": "execute_result",
          "data": {
            "text/plain": [
              "        date    plate rain snow2  precip_x  snow  precipitation  Month  \\\n",
              "0 2024-01-30  DV74082  Yes    No     0.013   0.0           True      1   \n",
              "1 2024-01-30  BQ90135  Yes    No     0.013   0.0           True      1   \n",
              "2 2024-01-30  DA25215  Yes    No     0.013   0.0           True      1   \n",
              "3 2024-01-30      NaN  Yes    No     0.013   0.0           True      1   \n",
              "4 2024-01-30      NaN  Yes    No     0.013   0.0           True      1   \n",
              "\n",
              "   car_towed  precip_y  \n",
              "0       True     0.013  \n",
              "1       True     0.013  \n",
              "2       True     0.013  \n",
              "3       True     0.013  \n",
              "4       True     0.013  "
            ],
            "text/html": [
              "\n",
              "  <div id=\"df-87582bcf-a6ce-4e48-bd10-7a1686ab7587\" class=\"colab-df-container\">\n",
              "    <div>\n",
              "<style scoped>\n",
              "    .dataframe tbody tr th:only-of-type {\n",
              "        vertical-align: middle;\n",
              "    }\n",
              "\n",
              "    .dataframe tbody tr th {\n",
              "        vertical-align: top;\n",
              "    }\n",
              "\n",
              "    .dataframe thead th {\n",
              "        text-align: right;\n",
              "    }\n",
              "</style>\n",
              "<table border=\"1\" class=\"dataframe\">\n",
              "  <thead>\n",
              "    <tr style=\"text-align: right;\">\n",
              "      <th></th>\n",
              "      <th>date</th>\n",
              "      <th>plate</th>\n",
              "      <th>rain</th>\n",
              "      <th>snow2</th>\n",
              "      <th>precip_x</th>\n",
              "      <th>snow</th>\n",
              "      <th>precipitation</th>\n",
              "      <th>Month</th>\n",
              "      <th>car_towed</th>\n",
              "      <th>precip_y</th>\n",
              "    </tr>\n",
              "  </thead>\n",
              "  <tbody>\n",
              "    <tr>\n",
              "      <th>0</th>\n",
              "      <td>2024-01-30</td>\n",
              "      <td>DV74082</td>\n",
              "      <td>Yes</td>\n",
              "      <td>No</td>\n",
              "      <td>0.013</td>\n",
              "      <td>0.0</td>\n",
              "      <td>True</td>\n",
              "      <td>1</td>\n",
              "      <td>True</td>\n",
              "      <td>0.013</td>\n",
              "    </tr>\n",
              "    <tr>\n",
              "      <th>1</th>\n",
              "      <td>2024-01-30</td>\n",
              "      <td>BQ90135</td>\n",
              "      <td>Yes</td>\n",
              "      <td>No</td>\n",
              "      <td>0.013</td>\n",
              "      <td>0.0</td>\n",
              "      <td>True</td>\n",
              "      <td>1</td>\n",
              "      <td>True</td>\n",
              "      <td>0.013</td>\n",
              "    </tr>\n",
              "    <tr>\n",
              "      <th>2</th>\n",
              "      <td>2024-01-30</td>\n",
              "      <td>DA25215</td>\n",
              "      <td>Yes</td>\n",
              "      <td>No</td>\n",
              "      <td>0.013</td>\n",
              "      <td>0.0</td>\n",
              "      <td>True</td>\n",
              "      <td>1</td>\n",
              "      <td>True</td>\n",
              "      <td>0.013</td>\n",
              "    </tr>\n",
              "    <tr>\n",
              "      <th>3</th>\n",
              "      <td>2024-01-30</td>\n",
              "      <td>NaN</td>\n",
              "      <td>Yes</td>\n",
              "      <td>No</td>\n",
              "      <td>0.013</td>\n",
              "      <td>0.0</td>\n",
              "      <td>True</td>\n",
              "      <td>1</td>\n",
              "      <td>True</td>\n",
              "      <td>0.013</td>\n",
              "    </tr>\n",
              "    <tr>\n",
              "      <th>4</th>\n",
              "      <td>2024-01-30</td>\n",
              "      <td>NaN</td>\n",
              "      <td>Yes</td>\n",
              "      <td>No</td>\n",
              "      <td>0.013</td>\n",
              "      <td>0.0</td>\n",
              "      <td>True</td>\n",
              "      <td>1</td>\n",
              "      <td>True</td>\n",
              "      <td>0.013</td>\n",
              "    </tr>\n",
              "  </tbody>\n",
              "</table>\n",
              "</div>\n",
              "    <div class=\"colab-df-buttons\">\n",
              "\n",
              "  <div class=\"colab-df-container\">\n",
              "    <button class=\"colab-df-convert\" onclick=\"convertToInteractive('df-87582bcf-a6ce-4e48-bd10-7a1686ab7587')\"\n",
              "            title=\"Convert this dataframe to an interactive table.\"\n",
              "            style=\"display:none;\">\n",
              "\n",
              "  <svg xmlns=\"http://www.w3.org/2000/svg\" height=\"24px\" viewBox=\"0 -960 960 960\">\n",
              "    <path d=\"M120-120v-720h720v720H120Zm60-500h600v-160H180v160Zm220 220h160v-160H400v160Zm0 220h160v-160H400v160ZM180-400h160v-160H180v160Zm440 0h160v-160H620v160ZM180-180h160v-160H180v160Zm440 0h160v-160H620v160Z\"/>\n",
              "  </svg>\n",
              "    </button>\n",
              "\n",
              "  <style>\n",
              "    .colab-df-container {\n",
              "      display:flex;\n",
              "      gap: 12px;\n",
              "    }\n",
              "\n",
              "    .colab-df-convert {\n",
              "      background-color: #E8F0FE;\n",
              "      border: none;\n",
              "      border-radius: 50%;\n",
              "      cursor: pointer;\n",
              "      display: none;\n",
              "      fill: #1967D2;\n",
              "      height: 32px;\n",
              "      padding: 0 0 0 0;\n",
              "      width: 32px;\n",
              "    }\n",
              "\n",
              "    .colab-df-convert:hover {\n",
              "      background-color: #E2EBFA;\n",
              "      box-shadow: 0px 1px 2px rgba(60, 64, 67, 0.3), 0px 1px 3px 1px rgba(60, 64, 67, 0.15);\n",
              "      fill: #174EA6;\n",
              "    }\n",
              "\n",
              "    .colab-df-buttons div {\n",
              "      margin-bottom: 4px;\n",
              "    }\n",
              "\n",
              "    [theme=dark] .colab-df-convert {\n",
              "      background-color: #3B4455;\n",
              "      fill: #D2E3FC;\n",
              "    }\n",
              "\n",
              "    [theme=dark] .colab-df-convert:hover {\n",
              "      background-color: #434B5C;\n",
              "      box-shadow: 0px 1px 3px 1px rgba(0, 0, 0, 0.15);\n",
              "      filter: drop-shadow(0px 1px 2px rgba(0, 0, 0, 0.3));\n",
              "      fill: #FFFFFF;\n",
              "    }\n",
              "  </style>\n",
              "\n",
              "    <script>\n",
              "      const buttonEl =\n",
              "        document.querySelector('#df-87582bcf-a6ce-4e48-bd10-7a1686ab7587 button.colab-df-convert');\n",
              "      buttonEl.style.display =\n",
              "        google.colab.kernel.accessAllowed ? 'block' : 'none';\n",
              "\n",
              "      async function convertToInteractive(key) {\n",
              "        const element = document.querySelector('#df-87582bcf-a6ce-4e48-bd10-7a1686ab7587');\n",
              "        const dataTable =\n",
              "          await google.colab.kernel.invokeFunction('convertToInteractive',\n",
              "                                                    [key], {});\n",
              "        if (!dataTable) return;\n",
              "\n",
              "        const docLinkHtml = 'Like what you see? Visit the ' +\n",
              "          '<a target=\"_blank\" href=https://colab.research.google.com/notebooks/data_table.ipynb>data table notebook</a>'\n",
              "          + ' to learn more about interactive tables.';\n",
              "        element.innerHTML = '';\n",
              "        dataTable['output_type'] = 'display_data';\n",
              "        await google.colab.output.renderOutput(dataTable, element);\n",
              "        const docLink = document.createElement('div');\n",
              "        docLink.innerHTML = docLinkHtml;\n",
              "        element.appendChild(docLink);\n",
              "      }\n",
              "    </script>\n",
              "  </div>\n",
              "\n",
              "\n",
              "<div id=\"df-09867377-6855-4b60-9a6f-6fb4a446e810\">\n",
              "  <button class=\"colab-df-quickchart\" onclick=\"quickchart('df-09867377-6855-4b60-9a6f-6fb4a446e810')\"\n",
              "            title=\"Suggest charts\"\n",
              "            style=\"display:none;\">\n",
              "\n",
              "<svg xmlns=\"http://www.w3.org/2000/svg\" height=\"24px\"viewBox=\"0 0 24 24\"\n",
              "     width=\"24px\">\n",
              "    <g>\n",
              "        <path d=\"M19 3H5c-1.1 0-2 .9-2 2v14c0 1.1.9 2 2 2h14c1.1 0 2-.9 2-2V5c0-1.1-.9-2-2-2zM9 17H7v-7h2v7zm4 0h-2V7h2v10zm4 0h-2v-4h2v4z\"/>\n",
              "    </g>\n",
              "</svg>\n",
              "  </button>\n",
              "\n",
              "<style>\n",
              "  .colab-df-quickchart {\n",
              "      --bg-color: #E8F0FE;\n",
              "      --fill-color: #1967D2;\n",
              "      --hover-bg-color: #E2EBFA;\n",
              "      --hover-fill-color: #174EA6;\n",
              "      --disabled-fill-color: #AAA;\n",
              "      --disabled-bg-color: #DDD;\n",
              "  }\n",
              "\n",
              "  [theme=dark] .colab-df-quickchart {\n",
              "      --bg-color: #3B4455;\n",
              "      --fill-color: #D2E3FC;\n",
              "      --hover-bg-color: #434B5C;\n",
              "      --hover-fill-color: #FFFFFF;\n",
              "      --disabled-bg-color: #3B4455;\n",
              "      --disabled-fill-color: #666;\n",
              "  }\n",
              "\n",
              "  .colab-df-quickchart {\n",
              "    background-color: var(--bg-color);\n",
              "    border: none;\n",
              "    border-radius: 50%;\n",
              "    cursor: pointer;\n",
              "    display: none;\n",
              "    fill: var(--fill-color);\n",
              "    height: 32px;\n",
              "    padding: 0;\n",
              "    width: 32px;\n",
              "  }\n",
              "\n",
              "  .colab-df-quickchart:hover {\n",
              "    background-color: var(--hover-bg-color);\n",
              "    box-shadow: 0 1px 2px rgba(60, 64, 67, 0.3), 0 1px 3px 1px rgba(60, 64, 67, 0.15);\n",
              "    fill: var(--button-hover-fill-color);\n",
              "  }\n",
              "\n",
              "  .colab-df-quickchart-complete:disabled,\n",
              "  .colab-df-quickchart-complete:disabled:hover {\n",
              "    background-color: var(--disabled-bg-color);\n",
              "    fill: var(--disabled-fill-color);\n",
              "    box-shadow: none;\n",
              "  }\n",
              "\n",
              "  .colab-df-spinner {\n",
              "    border: 2px solid var(--fill-color);\n",
              "    border-color: transparent;\n",
              "    border-bottom-color: var(--fill-color);\n",
              "    animation:\n",
              "      spin 1s steps(1) infinite;\n",
              "  }\n",
              "\n",
              "  @keyframes spin {\n",
              "    0% {\n",
              "      border-color: transparent;\n",
              "      border-bottom-color: var(--fill-color);\n",
              "      border-left-color: var(--fill-color);\n",
              "    }\n",
              "    20% {\n",
              "      border-color: transparent;\n",
              "      border-left-color: var(--fill-color);\n",
              "      border-top-color: var(--fill-color);\n",
              "    }\n",
              "    30% {\n",
              "      border-color: transparent;\n",
              "      border-left-color: var(--fill-color);\n",
              "      border-top-color: var(--fill-color);\n",
              "      border-right-color: var(--fill-color);\n",
              "    }\n",
              "    40% {\n",
              "      border-color: transparent;\n",
              "      border-right-color: var(--fill-color);\n",
              "      border-top-color: var(--fill-color);\n",
              "    }\n",
              "    60% {\n",
              "      border-color: transparent;\n",
              "      border-right-color: var(--fill-color);\n",
              "    }\n",
              "    80% {\n",
              "      border-color: transparent;\n",
              "      border-right-color: var(--fill-color);\n",
              "      border-bottom-color: var(--fill-color);\n",
              "    }\n",
              "    90% {\n",
              "      border-color: transparent;\n",
              "      border-bottom-color: var(--fill-color);\n",
              "    }\n",
              "  }\n",
              "</style>\n",
              "\n",
              "  <script>\n",
              "    async function quickchart(key) {\n",
              "      const quickchartButtonEl =\n",
              "        document.querySelector('#' + key + ' button');\n",
              "      quickchartButtonEl.disabled = true;  // To prevent multiple clicks.\n",
              "      quickchartButtonEl.classList.add('colab-df-spinner');\n",
              "      try {\n",
              "        const charts = await google.colab.kernel.invokeFunction(\n",
              "            'suggestCharts', [key], {});\n",
              "      } catch (error) {\n",
              "        console.error('Error during call to suggestCharts:', error);\n",
              "      }\n",
              "      quickchartButtonEl.classList.remove('colab-df-spinner');\n",
              "      quickchartButtonEl.classList.add('colab-df-quickchart-complete');\n",
              "    }\n",
              "    (() => {\n",
              "      let quickchartButtonEl =\n",
              "        document.querySelector('#df-09867377-6855-4b60-9a6f-6fb4a446e810 button');\n",
              "      quickchartButtonEl.style.display =\n",
              "        google.colab.kernel.accessAllowed ? 'block' : 'none';\n",
              "    })();\n",
              "  </script>\n",
              "</div>\n",
              "\n",
              "    </div>\n",
              "  </div>\n"
            ],
            "application/vnd.google.colaboratory.intrinsic+json": {
              "type": "dataframe",
              "variable_name": "merged_data",
              "summary": "{\n  \"name\": \"merged_data\",\n  \"rows\": 1945,\n  \"fields\": [\n    {\n      \"column\": \"date\",\n      \"properties\": {\n        \"dtype\": \"date\",\n        \"min\": \"2024-01-30 00:00:00\",\n        \"max\": \"2024-03-31 00:00:00\",\n        \"num_unique_values\": 62,\n        \"samples\": [\n          \"2024-03-20 00:00:00\",\n          \"2024-03-26 00:00:00\",\n          \"2024-01-30 00:00:00\"\n        ],\n        \"semantic_type\": \"\",\n        \"description\": \"\"\n      }\n    },\n    {\n      \"column\": \"plate\",\n      \"properties\": {\n        \"dtype\": \"string\",\n        \"num_unique_values\": 1460,\n        \"samples\": [\n          \"WILTCC\",\n          \"DD91286\",\n          \"AV94774\"\n        ],\n        \"semantic_type\": \"\",\n        \"description\": \"\"\n      }\n    },\n    {\n      \"column\": \"rain\",\n      \"properties\": {\n        \"dtype\": \"category\",\n        \"num_unique_values\": 2,\n        \"samples\": [\n          \"No\",\n          \"Yes\"\n        ],\n        \"semantic_type\": \"\",\n        \"description\": \"\"\n      }\n    },\n    {\n      \"column\": \"snow2\",\n      \"properties\": {\n        \"dtype\": \"category\",\n        \"num_unique_values\": 2,\n        \"samples\": [\n          \"Yes\",\n          \"No\"\n        ],\n        \"semantic_type\": \"\",\n        \"description\": \"\"\n      }\n    },\n    {\n      \"column\": \"precip_x\",\n      \"properties\": {\n        \"dtype\": \"number\",\n        \"std\": 0.16323250728650746,\n        \"min\": 0.0,\n        \"max\": 0.776,\n        \"num_unique_values\": 19,\n        \"samples\": [\n          0.013,\n          0.379\n        ],\n        \"semantic_type\": \"\",\n        \"description\": \"\"\n      }\n    },\n    {\n      \"column\": \"snow\",\n      \"properties\": {\n        \"dtype\": \"number\",\n        \"std\": 0.20461114560340604,\n        \"min\": 0.0,\n        \"max\": 1.6,\n        \"num_unique_values\": 4,\n        \"samples\": [\n          0.1,\n          1.6\n        ],\n        \"semantic_type\": \"\",\n        \"description\": \"\"\n      }\n    },\n    {\n      \"column\": \"precipitation\",\n      \"properties\": {\n        \"dtype\": \"boolean\",\n        \"num_unique_values\": 2,\n        \"samples\": [\n          false,\n          true\n        ],\n        \"semantic_type\": \"\",\n        \"description\": \"\"\n      }\n    },\n    {\n      \"column\": \"Month\",\n      \"properties\": {\n        \"dtype\": \"int32\",\n        \"num_unique_values\": 3,\n        \"samples\": [\n          1,\n          2\n        ],\n        \"semantic_type\": \"\",\n        \"description\": \"\"\n      }\n    },\n    {\n      \"column\": \"car_towed\",\n      \"properties\": {\n        \"dtype\": \"boolean\",\n        \"num_unique_values\": 1,\n        \"samples\": [\n          true\n        ],\n        \"semantic_type\": \"\",\n        \"description\": \"\"\n      }\n    },\n    {\n      \"column\": \"precip_y\",\n      \"properties\": {\n        \"dtype\": \"number\",\n        \"std\": 0.16323250728650746,\n        \"min\": 0.0,\n        \"max\": 0.776,\n        \"num_unique_values\": 19,\n        \"samples\": [\n          0.013\n        ],\n        \"semantic_type\": \"\",\n        \"description\": \"\"\n      }\n    }\n  ]\n}"
            }
          },
          "metadata": {},
          "execution_count": 36
        }
      ]
    },
    {
      "cell_type": "code",
      "source": [
        "\n"
      ],
      "metadata": {
        "colab": {
          "base_uri": "https://localhost:8080/",
          "height": 582
        },
        "id": "q3XtSQVuFb7n",
        "outputId": "69385bc8-2c0f-43b2-adf5-b314b2b7f172"
      },
      "execution_count": null,
      "outputs": [
        {
          "output_type": "stream",
          "name": "stdout",
          "text": [
            "Correlation Coefficient: nan\n"
          ]
        },
        {
          "output_type": "display_data",
          "data": {
            "text/plain": [
              "<Figure size 800x600 with 1 Axes>"
            ],
            "image/png": "[encoded data removed]"
          },
          "metadata": {}
        }
      ]
    },
    {
      "cell_type": "markdown",
      "source": [
        "Initially, I had chosen to do my project on the sex offenders database from the Chicago Data Portal. I liked this dataset because it was unique compared to anything I had done before and it is something I am interested in. After milestone 3, I had to pivot to a different dataset as the requirements for milestone 4 required mapping another dataset to the dataframe. The sex offenders database did not provide this opportunity, so I switched to using the towed vehicles database, also from the Chicago Data Portal. The second dataset I chose to map to the towed vehicles dataset was a weather dataset.\n",
        "\n",
        "The goal of the code, after mapping the towed vehicles dataset and the weather dataset together, was to find out if there was a correlation between precipitation and a car being towed. The Chicago weather dataset provides the amount of precipitation in mm for each day. I coded it so that the dataframe also included a column indicating whether it had rained or not.\n",
        "\n",
        "The first part of the analysis I conducted found the number of days where a car was towed and it also rained. From January 2024 to March 2024, 36.23% of days where a car was towed had some precipitation. I also did the same for snow, which was 10.14%. Next, I visualized the number of cars towed on days where it had rained or snowed and on days where it had not. I made three graphs: one for rain, one for snow, and one for rain and snow. All of these graphs showed fewer days with precipitation compared to days without. Next, I visualized the number of days where it was rainy or snowy and a car was towed. From my findings, the proportion of days where it was rainy and a car was towed to days where it was not rainy, and the count of cars towed on rainy days vs. not rainy days are about equal.\n",
        "\n",
        "Next, I found the month that had the most vehicles towed, which is March. After that, I visualized the precipitation in mm for the month of March. The graph showed 12 days where it rained, and the peak precipitation was 25 mm. Following that, I did the same thing for the month with the least amount of cars towed, which was January. January had very few rainy days, and a peak precipitation of 0.7 mm. Then I found the days in January where a car was not towed and graphed the precipitation for those days. There were a total of 17 days of precipitation with a peak of 5 mm. From these graphs, I discovered that for January, there was more precipitation on days where a car was not towed than when a car was towed.\n",
        "\n",
        "Going forward, there are a few things I would like to do. First, I was unable to implement an API for the weather dataset, so I was limited to how much data I could load into Python. In the future, I would like to be able to figure this out so that I can have a wider array of data instead of just a few months' worth. Secondly, I would like to delve further into correlation. I want to create a correlation matrix and graph the correlation between the precipitation in mm and whether a car was towed that day or not. Since I only have a few months of data, I did not feel confident in the correlation graph, so it was not included in the final report.\n",
        "\n",
        "From the code and analysis, it does not seem that there is a correlation between rain and cars being towed in Chicago. I thought that there would be fewer cars towed on rainy or snowy days because it causes more of a hassle, but my findings proved that wrong. The proportion of cars towed on rainy days vs. cars towed on non-rainy days is nearly equal, which concludes that there is not a strong correlation between rain and a vehicle being towed.\n"
      ],
      "metadata": {
        "id": "ss1_UiRPAfiG"
      }
    },
    {
      "cell_type": "markdown",
      "source": [],
      "metadata": {
        "id": "rfhZ3OWssoIt"
      }
    },
    {
      "cell_type": "markdown",
      "source": [],
      "metadata": {
        "id": "l7RX88NYwv_p"
      }
    }
  ]
}